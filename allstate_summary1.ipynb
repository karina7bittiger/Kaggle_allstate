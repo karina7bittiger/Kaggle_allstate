{
 "cells": [
  {
   "cell_type": "code",
   "execution_count": 3,
   "metadata": {},
   "outputs": [],
   "source": [
    "import pandas as pd"
   ]
  },
  {
   "cell_type": "markdown",
   "metadata": {},
   "source": [
    "### load train data"
   ]
  },
  {
   "cell_type": "code",
   "execution_count": 4,
   "metadata": {},
   "outputs": [],
   "source": [
    "raw_train = pd.read_csv('./data/train.csv')"
   ]
  },
  {
   "cell_type": "code",
   "execution_count": 4,
   "metadata": {},
   "outputs": [
    {
     "data": {
      "text/html": [
       "<div>\n",
       "<table border=\"1\" class=\"dataframe\">\n",
       "  <thead>\n",
       "    <tr style=\"text-align: right;\">\n",
       "      <th></th>\n",
       "      <th>id</th>\n",
       "      <th>cat1</th>\n",
       "      <th>cat2</th>\n",
       "      <th>cat3</th>\n",
       "      <th>cat4</th>\n",
       "      <th>cat5</th>\n",
       "      <th>cat6</th>\n",
       "      <th>cat7</th>\n",
       "      <th>cat8</th>\n",
       "      <th>cat9</th>\n",
       "      <th>...</th>\n",
       "      <th>cont6</th>\n",
       "      <th>cont7</th>\n",
       "      <th>cont8</th>\n",
       "      <th>cont9</th>\n",
       "      <th>cont10</th>\n",
       "      <th>cont11</th>\n",
       "      <th>cont12</th>\n",
       "      <th>cont13</th>\n",
       "      <th>cont14</th>\n",
       "      <th>loss</th>\n",
       "    </tr>\n",
       "  </thead>\n",
       "  <tbody>\n",
       "    <tr>\n",
       "      <th>0</th>\n",
       "      <td>1</td>\n",
       "      <td>A</td>\n",
       "      <td>B</td>\n",
       "      <td>A</td>\n",
       "      <td>B</td>\n",
       "      <td>A</td>\n",
       "      <td>A</td>\n",
       "      <td>A</td>\n",
       "      <td>A</td>\n",
       "      <td>B</td>\n",
       "      <td>...</td>\n",
       "      <td>0.718367</td>\n",
       "      <td>0.335060</td>\n",
       "      <td>0.30260</td>\n",
       "      <td>0.67135</td>\n",
       "      <td>0.83510</td>\n",
       "      <td>0.569745</td>\n",
       "      <td>0.594646</td>\n",
       "      <td>0.822493</td>\n",
       "      <td>0.714843</td>\n",
       "      <td>2213.18</td>\n",
       "    </tr>\n",
       "    <tr>\n",
       "      <th>1</th>\n",
       "      <td>2</td>\n",
       "      <td>A</td>\n",
       "      <td>B</td>\n",
       "      <td>A</td>\n",
       "      <td>A</td>\n",
       "      <td>A</td>\n",
       "      <td>A</td>\n",
       "      <td>A</td>\n",
       "      <td>A</td>\n",
       "      <td>B</td>\n",
       "      <td>...</td>\n",
       "      <td>0.438917</td>\n",
       "      <td>0.436585</td>\n",
       "      <td>0.60087</td>\n",
       "      <td>0.35127</td>\n",
       "      <td>0.43919</td>\n",
       "      <td>0.338312</td>\n",
       "      <td>0.366307</td>\n",
       "      <td>0.611431</td>\n",
       "      <td>0.304496</td>\n",
       "      <td>1283.60</td>\n",
       "    </tr>\n",
       "    <tr>\n",
       "      <th>2</th>\n",
       "      <td>5</td>\n",
       "      <td>A</td>\n",
       "      <td>B</td>\n",
       "      <td>A</td>\n",
       "      <td>A</td>\n",
       "      <td>B</td>\n",
       "      <td>A</td>\n",
       "      <td>A</td>\n",
       "      <td>A</td>\n",
       "      <td>B</td>\n",
       "      <td>...</td>\n",
       "      <td>0.289648</td>\n",
       "      <td>0.315545</td>\n",
       "      <td>0.27320</td>\n",
       "      <td>0.26076</td>\n",
       "      <td>0.32446</td>\n",
       "      <td>0.381398</td>\n",
       "      <td>0.373424</td>\n",
       "      <td>0.195709</td>\n",
       "      <td>0.774425</td>\n",
       "      <td>3005.09</td>\n",
       "    </tr>\n",
       "    <tr>\n",
       "      <th>3</th>\n",
       "      <td>10</td>\n",
       "      <td>B</td>\n",
       "      <td>B</td>\n",
       "      <td>A</td>\n",
       "      <td>B</td>\n",
       "      <td>A</td>\n",
       "      <td>A</td>\n",
       "      <td>A</td>\n",
       "      <td>A</td>\n",
       "      <td>B</td>\n",
       "      <td>...</td>\n",
       "      <td>0.440945</td>\n",
       "      <td>0.391128</td>\n",
       "      <td>0.31796</td>\n",
       "      <td>0.32128</td>\n",
       "      <td>0.44467</td>\n",
       "      <td>0.327915</td>\n",
       "      <td>0.321570</td>\n",
       "      <td>0.605077</td>\n",
       "      <td>0.602642</td>\n",
       "      <td>939.85</td>\n",
       "    </tr>\n",
       "    <tr>\n",
       "      <th>4</th>\n",
       "      <td>11</td>\n",
       "      <td>A</td>\n",
       "      <td>B</td>\n",
       "      <td>A</td>\n",
       "      <td>B</td>\n",
       "      <td>A</td>\n",
       "      <td>A</td>\n",
       "      <td>A</td>\n",
       "      <td>A</td>\n",
       "      <td>B</td>\n",
       "      <td>...</td>\n",
       "      <td>0.178193</td>\n",
       "      <td>0.247408</td>\n",
       "      <td>0.24564</td>\n",
       "      <td>0.22089</td>\n",
       "      <td>0.21230</td>\n",
       "      <td>0.204687</td>\n",
       "      <td>0.202213</td>\n",
       "      <td>0.246011</td>\n",
       "      <td>0.432606</td>\n",
       "      <td>2763.85</td>\n",
       "    </tr>\n",
       "  </tbody>\n",
       "</table>\n",
       "<p>5 rows × 132 columns</p>\n",
       "</div>"
      ],
      "text/plain": [
       "   id cat1 cat2 cat3 cat4 cat5 cat6 cat7 cat8 cat9   ...        cont6  \\\n",
       "0   1    A    B    A    B    A    A    A    A    B   ...     0.718367   \n",
       "1   2    A    B    A    A    A    A    A    A    B   ...     0.438917   \n",
       "2   5    A    B    A    A    B    A    A    A    B   ...     0.289648   \n",
       "3  10    B    B    A    B    A    A    A    A    B   ...     0.440945   \n",
       "4  11    A    B    A    B    A    A    A    A    B   ...     0.178193   \n",
       "\n",
       "      cont7    cont8    cont9   cont10    cont11    cont12    cont13  \\\n",
       "0  0.335060  0.30260  0.67135  0.83510  0.569745  0.594646  0.822493   \n",
       "1  0.436585  0.60087  0.35127  0.43919  0.338312  0.366307  0.611431   \n",
       "2  0.315545  0.27320  0.26076  0.32446  0.381398  0.373424  0.195709   \n",
       "3  0.391128  0.31796  0.32128  0.44467  0.327915  0.321570  0.605077   \n",
       "4  0.247408  0.24564  0.22089  0.21230  0.204687  0.202213  0.246011   \n",
       "\n",
       "     cont14     loss  \n",
       "0  0.714843  2213.18  \n",
       "1  0.304496  1283.60  \n",
       "2  0.774425  3005.09  \n",
       "3  0.602642   939.85  \n",
       "4  0.432606  2763.85  \n",
       "\n",
       "[5 rows x 132 columns]"
      ]
     },
     "execution_count": 4,
     "metadata": {},
     "output_type": "execute_result"
    }
   ],
   "source": [
    "raw_train.head()"
   ]
  },
  {
   "cell_type": "markdown",
   "metadata": {},
   "source": [
    "### Summary"
   ]
  },
  {
   "cell_type": "code",
   "execution_count": 5,
   "metadata": {},
   "outputs": [],
   "source": [
    "raw_summary = raw_train.describe()"
   ]
  },
  {
   "cell_type": "code",
   "execution_count": 42,
   "metadata": {},
   "outputs": [],
   "source": [
    "raw_summary.to_csv('./output/raw_summary.csv', encoding='utf-8')"
   ]
  },
  {
   "cell_type": "code",
   "execution_count": 6,
   "metadata": {},
   "outputs": [
    {
     "data": {
      "text/html": [
       "<div>\n",
       "<table border=\"1\" class=\"dataframe\">\n",
       "  <thead>\n",
       "    <tr style=\"text-align: right;\">\n",
       "      <th></th>\n",
       "      <th>loss</th>\n",
       "      <th>cont1</th>\n",
       "      <th>cont2</th>\n",
       "      <th>cont3</th>\n",
       "      <th>cont4</th>\n",
       "      <th>cont5</th>\n",
       "      <th>cont6</th>\n",
       "      <th>cont7</th>\n",
       "    </tr>\n",
       "  </thead>\n",
       "  <tbody>\n",
       "    <tr>\n",
       "      <th>count</th>\n",
       "      <td>188318.000000</td>\n",
       "      <td>188318.000000</td>\n",
       "      <td>188318.000000</td>\n",
       "      <td>188318.000000</td>\n",
       "      <td>188318.000000</td>\n",
       "      <td>188318.000000</td>\n",
       "      <td>188318.000000</td>\n",
       "      <td>188318.000000</td>\n",
       "    </tr>\n",
       "    <tr>\n",
       "      <th>mean</th>\n",
       "      <td>3037.337686</td>\n",
       "      <td>0.493861</td>\n",
       "      <td>0.507188</td>\n",
       "      <td>0.498918</td>\n",
       "      <td>0.491812</td>\n",
       "      <td>0.487428</td>\n",
       "      <td>0.490945</td>\n",
       "      <td>0.484970</td>\n",
       "    </tr>\n",
       "    <tr>\n",
       "      <th>std</th>\n",
       "      <td>2904.086186</td>\n",
       "      <td>0.187640</td>\n",
       "      <td>0.207202</td>\n",
       "      <td>0.202105</td>\n",
       "      <td>0.211292</td>\n",
       "      <td>0.209027</td>\n",
       "      <td>0.205273</td>\n",
       "      <td>0.178450</td>\n",
       "    </tr>\n",
       "    <tr>\n",
       "      <th>min</th>\n",
       "      <td>0.670000</td>\n",
       "      <td>0.000016</td>\n",
       "      <td>0.001149</td>\n",
       "      <td>0.002634</td>\n",
       "      <td>0.176921</td>\n",
       "      <td>0.281143</td>\n",
       "      <td>0.012683</td>\n",
       "      <td>0.069503</td>\n",
       "    </tr>\n",
       "    <tr>\n",
       "      <th>25%</th>\n",
       "      <td>1204.460000</td>\n",
       "      <td>0.346090</td>\n",
       "      <td>0.358319</td>\n",
       "      <td>0.336963</td>\n",
       "      <td>0.327354</td>\n",
       "      <td>0.281143</td>\n",
       "      <td>0.336105</td>\n",
       "      <td>0.350175</td>\n",
       "    </tr>\n",
       "    <tr>\n",
       "      <th>50%</th>\n",
       "      <td>2115.570000</td>\n",
       "      <td>0.475784</td>\n",
       "      <td>0.555782</td>\n",
       "      <td>0.527991</td>\n",
       "      <td>0.452887</td>\n",
       "      <td>0.422268</td>\n",
       "      <td>0.440945</td>\n",
       "      <td>0.438285</td>\n",
       "    </tr>\n",
       "    <tr>\n",
       "      <th>75%</th>\n",
       "      <td>3864.045000</td>\n",
       "      <td>0.623912</td>\n",
       "      <td>0.681761</td>\n",
       "      <td>0.634224</td>\n",
       "      <td>0.652072</td>\n",
       "      <td>0.643315</td>\n",
       "      <td>0.655021</td>\n",
       "      <td>0.591045</td>\n",
       "    </tr>\n",
       "    <tr>\n",
       "      <th>max</th>\n",
       "      <td>121012.250000</td>\n",
       "      <td>0.984975</td>\n",
       "      <td>0.862654</td>\n",
       "      <td>0.944251</td>\n",
       "      <td>0.954297</td>\n",
       "      <td>0.983674</td>\n",
       "      <td>0.997162</td>\n",
       "      <td>1.000000</td>\n",
       "    </tr>\n",
       "  </tbody>\n",
       "</table>\n",
       "</div>"
      ],
      "text/plain": [
       "                loss          cont1          cont2          cont3  \\\n",
       "count  188318.000000  188318.000000  188318.000000  188318.000000   \n",
       "mean     3037.337686       0.493861       0.507188       0.498918   \n",
       "std      2904.086186       0.187640       0.207202       0.202105   \n",
       "min         0.670000       0.000016       0.001149       0.002634   \n",
       "25%      1204.460000       0.346090       0.358319       0.336963   \n",
       "50%      2115.570000       0.475784       0.555782       0.527991   \n",
       "75%      3864.045000       0.623912       0.681761       0.634224   \n",
       "max    121012.250000       0.984975       0.862654       0.944251   \n",
       "\n",
       "               cont4          cont5          cont6          cont7  \n",
       "count  188318.000000  188318.000000  188318.000000  188318.000000  \n",
       "mean        0.491812       0.487428       0.490945       0.484970  \n",
       "std         0.211292       0.209027       0.205273       0.178450  \n",
       "min         0.176921       0.281143       0.012683       0.069503  \n",
       "25%         0.327354       0.281143       0.336105       0.350175  \n",
       "50%         0.452887       0.422268       0.440945       0.438285  \n",
       "75%         0.652072       0.643315       0.655021       0.591045  \n",
       "max         0.954297       0.983674       0.997162       1.000000  "
      ]
     },
     "execution_count": 6,
     "metadata": {},
     "output_type": "execute_result"
    }
   ],
   "source": [
    "a = map(lambda x:'cont'+str(x+1),range(7))\n",
    "a.insert(0,'loss')\n",
    "raw_summary[a]"
   ]
  },
  {
   "cell_type": "code",
   "execution_count": 7,
   "metadata": {},
   "outputs": [
    {
     "data": {
      "text/html": [
       "<div>\n",
       "<table border=\"1\" class=\"dataframe\">\n",
       "  <thead>\n",
       "    <tr style=\"text-align: right;\">\n",
       "      <th></th>\n",
       "      <th>loss</th>\n",
       "      <th>cont8</th>\n",
       "      <th>cont9</th>\n",
       "      <th>cont10</th>\n",
       "      <th>cont11</th>\n",
       "      <th>cont12</th>\n",
       "      <th>cont13</th>\n",
       "      <th>cont14</th>\n",
       "    </tr>\n",
       "  </thead>\n",
       "  <tbody>\n",
       "    <tr>\n",
       "      <th>count</th>\n",
       "      <td>188318.000000</td>\n",
       "      <td>188318.000000</td>\n",
       "      <td>188318.000000</td>\n",
       "      <td>188318.000000</td>\n",
       "      <td>188318.000000</td>\n",
       "      <td>188318.000000</td>\n",
       "      <td>188318.000000</td>\n",
       "      <td>188318.000000</td>\n",
       "    </tr>\n",
       "    <tr>\n",
       "      <th>mean</th>\n",
       "      <td>3037.337686</td>\n",
       "      <td>0.486437</td>\n",
       "      <td>0.485506</td>\n",
       "      <td>0.498066</td>\n",
       "      <td>0.493511</td>\n",
       "      <td>0.493150</td>\n",
       "      <td>0.493138</td>\n",
       "      <td>0.495717</td>\n",
       "    </tr>\n",
       "    <tr>\n",
       "      <th>std</th>\n",
       "      <td>2904.086186</td>\n",
       "      <td>0.199370</td>\n",
       "      <td>0.181660</td>\n",
       "      <td>0.185877</td>\n",
       "      <td>0.209737</td>\n",
       "      <td>0.209427</td>\n",
       "      <td>0.212777</td>\n",
       "      <td>0.222488</td>\n",
       "    </tr>\n",
       "    <tr>\n",
       "      <th>min</th>\n",
       "      <td>0.670000</td>\n",
       "      <td>0.236880</td>\n",
       "      <td>0.000080</td>\n",
       "      <td>0.000000</td>\n",
       "      <td>0.035321</td>\n",
       "      <td>0.036232</td>\n",
       "      <td>0.000228</td>\n",
       "      <td>0.179722</td>\n",
       "    </tr>\n",
       "    <tr>\n",
       "      <th>25%</th>\n",
       "      <td>1204.460000</td>\n",
       "      <td>0.312800</td>\n",
       "      <td>0.358970</td>\n",
       "      <td>0.364580</td>\n",
       "      <td>0.310961</td>\n",
       "      <td>0.311661</td>\n",
       "      <td>0.315758</td>\n",
       "      <td>0.294610</td>\n",
       "    </tr>\n",
       "    <tr>\n",
       "      <th>50%</th>\n",
       "      <td>2115.570000</td>\n",
       "      <td>0.441060</td>\n",
       "      <td>0.441450</td>\n",
       "      <td>0.461190</td>\n",
       "      <td>0.457203</td>\n",
       "      <td>0.462286</td>\n",
       "      <td>0.363547</td>\n",
       "      <td>0.407403</td>\n",
       "    </tr>\n",
       "    <tr>\n",
       "      <th>75%</th>\n",
       "      <td>3864.045000</td>\n",
       "      <td>0.623580</td>\n",
       "      <td>0.566820</td>\n",
       "      <td>0.614590</td>\n",
       "      <td>0.678924</td>\n",
       "      <td>0.675759</td>\n",
       "      <td>0.689974</td>\n",
       "      <td>0.724623</td>\n",
       "    </tr>\n",
       "    <tr>\n",
       "      <th>max</th>\n",
       "      <td>121012.250000</td>\n",
       "      <td>0.980200</td>\n",
       "      <td>0.995400</td>\n",
       "      <td>0.994980</td>\n",
       "      <td>0.998742</td>\n",
       "      <td>0.998484</td>\n",
       "      <td>0.988494</td>\n",
       "      <td>0.844848</td>\n",
       "    </tr>\n",
       "  </tbody>\n",
       "</table>\n",
       "</div>"
      ],
      "text/plain": [
       "                loss          cont8          cont9         cont10  \\\n",
       "count  188318.000000  188318.000000  188318.000000  188318.000000   \n",
       "mean     3037.337686       0.486437       0.485506       0.498066   \n",
       "std      2904.086186       0.199370       0.181660       0.185877   \n",
       "min         0.670000       0.236880       0.000080       0.000000   \n",
       "25%      1204.460000       0.312800       0.358970       0.364580   \n",
       "50%      2115.570000       0.441060       0.441450       0.461190   \n",
       "75%      3864.045000       0.623580       0.566820       0.614590   \n",
       "max    121012.250000       0.980200       0.995400       0.994980   \n",
       "\n",
       "              cont11         cont12         cont13         cont14  \n",
       "count  188318.000000  188318.000000  188318.000000  188318.000000  \n",
       "mean        0.493511       0.493150       0.493138       0.495717  \n",
       "std         0.209737       0.209427       0.212777       0.222488  \n",
       "min         0.035321       0.036232       0.000228       0.179722  \n",
       "25%         0.310961       0.311661       0.315758       0.294610  \n",
       "50%         0.457203       0.462286       0.363547       0.407403  \n",
       "75%         0.678924       0.675759       0.689974       0.724623  \n",
       "max         0.998742       0.998484       0.988494       0.844848  "
      ]
     },
     "execution_count": 7,
     "metadata": {},
     "output_type": "execute_result"
    }
   ],
   "source": [
    "a = map(lambda x:'cont'+str(x+8),range(7))\n",
    "a.insert(0,'loss')\n",
    "raw_summary[a]"
   ]
  },
  {
   "cell_type": "code",
   "execution_count": 2,
   "metadata": {},
   "outputs": [],
   "source": [
    "import matplotlib.pyplot as plt"
   ]
  },
  {
   "cell_type": "code",
   "execution_count": 22,
   "metadata": {},
   "outputs": [],
   "source": [
    "numeric_col_name = map(lambda x:'cont'+str(x+1),range(14))\n",
    "raw_train_num = raw_train[numeric_col_name]\n",
    "raw_train_num.to_csv('./output/raw_train_num.csv',encoding='utf-8')"
   ]
  },
  {
   "cell_type": "code",
   "execution_count": 23,
   "metadata": {},
   "outputs": [
    {
     "data": {
      "image/png": "[encoded data removed]",
      "text/plain": [
       "<matplotlib.figure.Figure at 0x13fc74f0>"
      ]
     },
     "metadata": {},
     "output_type": "display_data"
    }
   ],
   "source": [
    "map(lambda i:plt.plot(raw_train_num.ix[:20,i])\n",
    "    ,numeric_col_name)\n",
    "plt.show()\n",
    "#turn to interactive plot to explore numeric data\n",
    "#give up on matplotlib..."
   ]
  },
  {
   "cell_type": "markdown",
   "metadata": {},
   "source": [
    "### Normalization numeric columns"
   ]
  },
  {
   "cell_type": "code",
   "execution_count": 8,
   "metadata": {},
   "outputs": [],
   "source": [
    "import math\n",
    "def magnitude(v):\n",
    "    return math.sqrt(sum(v[i]*v[i] for i in range(len(v))))\n",
    "def normalize(v):\n",
    "    vmag = magnitude(v)\n",
    "    return [ v[i]/vmag  for i in range(len(v)) ]"
   ]
  },
  {
   "cell_type": "code",
   "execution_count": 9,
   "metadata": {},
   "outputs": [],
   "source": [
    "raw_train_norm = raw_train"
   ]
  },
  {
   "cell_type": "code",
   "execution_count": 10,
   "metadata": {},
   "outputs": [],
   "source": [
    "raw_train_norm.loss = normalize(raw_train_norm.loss)"
   ]
  },
  {
   "cell_type": "code",
   "execution_count": 11,
   "metadata": {},
   "outputs": [],
   "source": [
    "a = map(lambda x:normalize(raw_train_norm[x]),numeric_col_name)"
   ]
  },
  {
   "cell_type": "code",
   "execution_count": 27,
   "metadata": {},
   "outputs": [
    {
     "data": {
      "text/html": [
       "<div>\n",
       "<table border=\"1\" class=\"dataframe\">\n",
       "  <thead>\n",
       "    <tr style=\"text-align: right;\">\n",
       "      <th></th>\n",
       "      <th>cont1</th>\n",
       "      <th>cont2</th>\n",
       "    </tr>\n",
       "  </thead>\n",
       "  <tbody>\n",
       "    <tr>\n",
       "      <th>0</th>\n",
       "      <td>0.726300</td>\n",
       "      <td>0.245921</td>\n",
       "    </tr>\n",
       "    <tr>\n",
       "      <th>1</th>\n",
       "      <td>0.330514</td>\n",
       "      <td>0.737068</td>\n",
       "    </tr>\n",
       "    <tr>\n",
       "      <th>2</th>\n",
       "      <td>0.261841</td>\n",
       "      <td>0.358319</td>\n",
       "    </tr>\n",
       "    <tr>\n",
       "      <th>3</th>\n",
       "      <td>0.321594</td>\n",
       "      <td>0.555782</td>\n",
       "    </tr>\n",
       "    <tr>\n",
       "      <th>4</th>\n",
       "      <td>0.273204</td>\n",
       "      <td>0.159990</td>\n",
       "    </tr>\n",
       "  </tbody>\n",
       "</table>\n",
       "</div>"
      ],
      "text/plain": [
       "      cont1     cont2\n",
       "0  0.726300  0.245921\n",
       "1  0.330514  0.737068\n",
       "2  0.261841  0.358319\n",
       "3  0.321594  0.555782\n",
       "4  0.273204  0.159990"
      ]
     },
     "execution_count": 27,
     "metadata": {},
     "output_type": "execute_result"
    }
   ],
   "source": [
    "raw_train_norm[['cont1','cont2']].head()"
   ]
  },
  {
   "cell_type": "code",
   "execution_count": 30,
   "metadata": {},
   "outputs": [
    {
     "data": {
      "text/html": [
       "<div>\n",
       "<table border=\"1\" class=\"dataframe\">\n",
       "  <thead>\n",
       "    <tr style=\"text-align: right;\">\n",
       "      <th></th>\n",
       "      <th>cont1</th>\n",
       "      <th>cont2</th>\n",
       "    </tr>\n",
       "  </thead>\n",
       "  <tbody>\n",
       "    <tr>\n",
       "      <th>0</th>\n",
       "      <td>0.003168</td>\n",
       "      <td>0.001034</td>\n",
       "    </tr>\n",
       "    <tr>\n",
       "      <th>1</th>\n",
       "      <td>0.001442</td>\n",
       "      <td>0.003100</td>\n",
       "    </tr>\n",
       "    <tr>\n",
       "      <th>2</th>\n",
       "      <td>0.001142</td>\n",
       "      <td>0.001507</td>\n",
       "    </tr>\n",
       "    <tr>\n",
       "      <th>3</th>\n",
       "      <td>0.001403</td>\n",
       "      <td>0.002338</td>\n",
       "    </tr>\n",
       "    <tr>\n",
       "      <th>4</th>\n",
       "      <td>0.001192</td>\n",
       "      <td>0.000673</td>\n",
       "    </tr>\n",
       "  </tbody>\n",
       "</table>\n",
       "</div>"
      ],
      "text/plain": [
       "      cont1     cont2\n",
       "0  0.003168  0.001034\n",
       "1  0.001442  0.003100\n",
       "2  0.001142  0.001507\n",
       "3  0.001403  0.002338\n",
       "4  0.001192  0.000673"
      ]
     },
     "execution_count": 30,
     "metadata": {},
     "output_type": "execute_result"
    }
   ],
   "source": [
    "for i in range(14):\n",
    "    raw_train_norm[numeric_col_name[i]] = a[i]\n",
    "raw_train_norm[['cont1','cont2']].head()"
   ]
  },
  {
   "cell_type": "code",
   "execution_count": 31,
   "metadata": {},
   "outputs": [],
   "source": [
    "raw_train_norm.to_csv('./output/train_norm.csv', encoding='utf-8')"
   ]
  },
  {
   "cell_type": "code",
   "execution_count": 32,
   "metadata": {},
   "outputs": [],
   "source": [
    "raw_summary_norm = raw_train_norm.describe()"
   ]
  },
  {
   "cell_type": "code",
   "execution_count": 41,
   "metadata": {},
   "outputs": [],
   "source": [
    "raw_summary_norm.to_csv('./output/raw_summary_norm.csv', encoding='utf-8')"
   ]
  },
  {
   "cell_type": "code",
   "execution_count": 33,
   "metadata": {},
   "outputs": [
    {
     "data": {
      "text/html": [
       "<div>\n",
       "<table border=\"1\" class=\"dataframe\">\n",
       "  <thead>\n",
       "    <tr style=\"text-align: right;\">\n",
       "      <th></th>\n",
       "      <th>id</th>\n",
       "      <th>cont1</th>\n",
       "      <th>cont2</th>\n",
       "      <th>cont3</th>\n",
       "      <th>cont4</th>\n",
       "      <th>cont5</th>\n",
       "      <th>cont6</th>\n",
       "      <th>cont7</th>\n",
       "      <th>cont8</th>\n",
       "      <th>cont9</th>\n",
       "      <th>cont10</th>\n",
       "      <th>cont11</th>\n",
       "      <th>cont12</th>\n",
       "      <th>cont13</th>\n",
       "      <th>cont14</th>\n",
       "      <th>loss</th>\n",
       "    </tr>\n",
       "  </thead>\n",
       "  <tbody>\n",
       "    <tr>\n",
       "      <th>count</th>\n",
       "      <td>188318.000000</td>\n",
       "      <td>1.883180e+05</td>\n",
       "      <td>188318.000000</td>\n",
       "      <td>188318.000000</td>\n",
       "      <td>188318.000000</td>\n",
       "      <td>188318.000000</td>\n",
       "      <td>188318.000000</td>\n",
       "      <td>188318.000000</td>\n",
       "      <td>188318.000000</td>\n",
       "      <td>1.883180e+05</td>\n",
       "      <td>188318.000000</td>\n",
       "      <td>188318.000000</td>\n",
       "      <td>188318.000000</td>\n",
       "      <td>1.883180e+05</td>\n",
       "      <td>188318.000000</td>\n",
       "      <td>1.883180e+05</td>\n",
       "    </tr>\n",
       "    <tr>\n",
       "      <th>mean</th>\n",
       "      <td>294135.982561</td>\n",
       "      <td>2.154137e-03</td>\n",
       "      <td>0.002133</td>\n",
       "      <td>0.002136</td>\n",
       "      <td>0.002117</td>\n",
       "      <td>0.002118</td>\n",
       "      <td>0.002126</td>\n",
       "      <td>0.002163</td>\n",
       "      <td>0.002132</td>\n",
       "      <td>2.158250e-03</td>\n",
       "      <td>0.002159</td>\n",
       "      <td>0.002121</td>\n",
       "      <td>0.002121</td>\n",
       "      <td>2.115828e-03</td>\n",
       "      <td>0.002102</td>\n",
       "      <td>1.665570e-03</td>\n",
       "    </tr>\n",
       "    <tr>\n",
       "      <th>std</th>\n",
       "      <td>169336.084867</td>\n",
       "      <td>8.184535e-04</td>\n",
       "      <td>0.000871</td>\n",
       "      <td>0.000865</td>\n",
       "      <td>0.000910</td>\n",
       "      <td>0.000908</td>\n",
       "      <td>0.000889</td>\n",
       "      <td>0.000796</td>\n",
       "      <td>0.000874</td>\n",
       "      <td>8.075446e-04</td>\n",
       "      <td>0.000806</td>\n",
       "      <td>0.000901</td>\n",
       "      <td>0.000901</td>\n",
       "      <td>9.129300e-04</td>\n",
       "      <td>0.000944</td>\n",
       "      <td>1.592500e-03</td>\n",
       "    </tr>\n",
       "    <tr>\n",
       "      <th>min</th>\n",
       "      <td>1.000000</td>\n",
       "      <td>6.978919e-08</td>\n",
       "      <td>0.000005</td>\n",
       "      <td>0.000011</td>\n",
       "      <td>0.000762</td>\n",
       "      <td>0.001222</td>\n",
       "      <td>0.000055</td>\n",
       "      <td>0.000310</td>\n",
       "      <td>0.001038</td>\n",
       "      <td>3.556287e-07</td>\n",
       "      <td>0.000000</td>\n",
       "      <td>0.000152</td>\n",
       "      <td>0.000156</td>\n",
       "      <td>9.782439e-07</td>\n",
       "      <td>0.000762</td>\n",
       "      <td>3.674047e-07</td>\n",
       "    </tr>\n",
       "    <tr>\n",
       "      <th>25%</th>\n",
       "      <td>147748.250000</td>\n",
       "      <td>1.509584e-03</td>\n",
       "      <td>0.001507</td>\n",
       "      <td>0.001442</td>\n",
       "      <td>0.001409</td>\n",
       "      <td>0.001222</td>\n",
       "      <td>0.001455</td>\n",
       "      <td>0.001562</td>\n",
       "      <td>0.001371</td>\n",
       "      <td>1.595750e-03</td>\n",
       "      <td>0.001580</td>\n",
       "      <td>0.001336</td>\n",
       "      <td>0.001340</td>\n",
       "      <td>1.354773e-03</td>\n",
       "      <td>0.001249</td>\n",
       "      <td>6.604840e-04</td>\n",
       "    </tr>\n",
       "    <tr>\n",
       "      <th>50%</th>\n",
       "      <td>294539.500000</td>\n",
       "      <td>2.075286e-03</td>\n",
       "      <td>0.002338</td>\n",
       "      <td>0.002260</td>\n",
       "      <td>0.001950</td>\n",
       "      <td>0.001835</td>\n",
       "      <td>0.001910</td>\n",
       "      <td>0.001954</td>\n",
       "      <td>0.001933</td>\n",
       "      <td>1.962404e-03</td>\n",
       "      <td>0.001999</td>\n",
       "      <td>0.001965</td>\n",
       "      <td>0.001988</td>\n",
       "      <td>1.559814e-03</td>\n",
       "      <td>0.001728</td>\n",
       "      <td>1.160105e-03</td>\n",
       "    </tr>\n",
       "    <tr>\n",
       "      <th>75%</th>\n",
       "      <td>440680.500000</td>\n",
       "      <td>2.721395e-03</td>\n",
       "      <td>0.002867</td>\n",
       "      <td>0.002715</td>\n",
       "      <td>0.002807</td>\n",
       "      <td>0.002795</td>\n",
       "      <td>0.002837</td>\n",
       "      <td>0.002636</td>\n",
       "      <td>0.002733</td>\n",
       "      <td>2.519718e-03</td>\n",
       "      <td>0.002664</td>\n",
       "      <td>0.002918</td>\n",
       "      <td>0.002906</td>\n",
       "      <td>2.960364e-03</td>\n",
       "      <td>0.003073</td>\n",
       "      <td>2.118908e-03</td>\n",
       "    </tr>\n",
       "    <tr>\n",
       "      <th>max</th>\n",
       "      <td>587633.000000</td>\n",
       "      <td>4.296288e-03</td>\n",
       "      <td>0.003628</td>\n",
       "      <td>0.004042</td>\n",
       "      <td>0.004108</td>\n",
       "      <td>0.004274</td>\n",
       "      <td>0.004318</td>\n",
       "      <td>0.004459</td>\n",
       "      <td>0.004297</td>\n",
       "      <td>4.424910e-03</td>\n",
       "      <td>0.004313</td>\n",
       "      <td>0.004292</td>\n",
       "      <td>0.004294</td>\n",
       "      <td>4.241177e-03</td>\n",
       "      <td>0.003583</td>\n",
       "      <td>6.635891e-02</td>\n",
       "    </tr>\n",
       "  </tbody>\n",
       "</table>\n",
       "</div>"
      ],
      "text/plain": [
       "                  id         cont1          cont2          cont3  \\\n",
       "count  188318.000000  1.883180e+05  188318.000000  188318.000000   \n",
       "mean   294135.982561  2.154137e-03       0.002133       0.002136   \n",
       "std    169336.084867  8.184535e-04       0.000871       0.000865   \n",
       "min         1.000000  6.978919e-08       0.000005       0.000011   \n",
       "25%    147748.250000  1.509584e-03       0.001507       0.001442   \n",
       "50%    294539.500000  2.075286e-03       0.002338       0.002260   \n",
       "75%    440680.500000  2.721395e-03       0.002867       0.002715   \n",
       "max    587633.000000  4.296288e-03       0.003628       0.004042   \n",
       "\n",
       "               cont4          cont5          cont6          cont7  \\\n",
       "count  188318.000000  188318.000000  188318.000000  188318.000000   \n",
       "mean        0.002117       0.002118       0.002126       0.002163   \n",
       "std         0.000910       0.000908       0.000889       0.000796   \n",
       "min         0.000762       0.001222       0.000055       0.000310   \n",
       "25%         0.001409       0.001222       0.001455       0.001562   \n",
       "50%         0.001950       0.001835       0.001910       0.001954   \n",
       "75%         0.002807       0.002795       0.002837       0.002636   \n",
       "max         0.004108       0.004274       0.004318       0.004459   \n",
       "\n",
       "               cont8         cont9         cont10         cont11  \\\n",
       "count  188318.000000  1.883180e+05  188318.000000  188318.000000   \n",
       "mean        0.002132  2.158250e-03       0.002159       0.002121   \n",
       "std         0.000874  8.075446e-04       0.000806       0.000901   \n",
       "min         0.001038  3.556287e-07       0.000000       0.000152   \n",
       "25%         0.001371  1.595750e-03       0.001580       0.001336   \n",
       "50%         0.001933  1.962404e-03       0.001999       0.001965   \n",
       "75%         0.002733  2.519718e-03       0.002664       0.002918   \n",
       "max         0.004297  4.424910e-03       0.004313       0.004292   \n",
       "\n",
       "              cont12        cont13         cont14          loss  \n",
       "count  188318.000000  1.883180e+05  188318.000000  1.883180e+05  \n",
       "mean        0.002121  2.115828e-03       0.002102  1.665570e-03  \n",
       "std         0.000901  9.129300e-04       0.000944  1.592500e-03  \n",
       "min         0.000156  9.782439e-07       0.000762  3.674047e-07  \n",
       "25%         0.001340  1.354773e-03       0.001249  6.604840e-04  \n",
       "50%         0.001988  1.559814e-03       0.001728  1.160105e-03  \n",
       "75%         0.002906  2.960364e-03       0.003073  2.118908e-03  \n",
       "max         0.004294  4.241177e-03       0.003583  6.635891e-02  "
      ]
     },
     "execution_count": 33,
     "metadata": {},
     "output_type": "execute_result"
    }
   ],
   "source": [
    "raw_summary_norm"
   ]
  },
  {
   "cell_type": "markdown",
   "metadata": {},
   "source": [
    "### Summary category columns"
   ]
  },
  {
   "cell_type": "code",
   "execution_count": 36,
   "metadata": {},
   "outputs": [],
   "source": [
    "cat_col_name = map(lambda x:'cat'+str(x+1),range(116))"
   ]
  },
  {
   "cell_type": "code",
   "execution_count": 62,
   "metadata": {},
   "outputs": [],
   "source": [
    "raw_summary_cat = raw_train[cat_col_name].describe()"
   ]
  },
  {
   "cell_type": "code",
   "execution_count": 64,
   "metadata": {},
   "outputs": [],
   "source": [
    "raw_summary_cat.to_csv('./output/raw_summary_cat2.csv',encoding='utf-8')"
   ]
  },
  {
   "cell_type": "code",
   "execution_count": 65,
   "metadata": {},
   "outputs": [
    {
     "data": {
      "text/html": [
       "<div>\n",
       "<table border=\"1\" class=\"dataframe\">\n",
       "  <thead>\n",
       "    <tr style=\"text-align: right;\">\n",
       "      <th></th>\n",
       "      <th>cat1</th>\n",
       "      <th>cat2</th>\n",
       "      <th>cat3</th>\n",
       "      <th>cat4</th>\n",
       "      <th>cat5</th>\n",
       "      <th>cat6</th>\n",
       "      <th>cat7</th>\n",
       "      <th>cat8</th>\n",
       "      <th>cat9</th>\n",
       "      <th>cat10</th>\n",
       "      <th>...</th>\n",
       "      <th>cat107</th>\n",
       "      <th>cat108</th>\n",
       "      <th>cat109</th>\n",
       "      <th>cat110</th>\n",
       "      <th>cat111</th>\n",
       "      <th>cat112</th>\n",
       "      <th>cat113</th>\n",
       "      <th>cat114</th>\n",
       "      <th>cat115</th>\n",
       "      <th>cat116</th>\n",
       "    </tr>\n",
       "  </thead>\n",
       "  <tbody>\n",
       "    <tr>\n",
       "      <th>count</th>\n",
       "      <td>188318</td>\n",
       "      <td>188318</td>\n",
       "      <td>188318</td>\n",
       "      <td>188318</td>\n",
       "      <td>188318</td>\n",
       "      <td>188318</td>\n",
       "      <td>188318</td>\n",
       "      <td>188318</td>\n",
       "      <td>188318</td>\n",
       "      <td>188318</td>\n",
       "      <td>...</td>\n",
       "      <td>188318</td>\n",
       "      <td>188318</td>\n",
       "      <td>188318</td>\n",
       "      <td>188318</td>\n",
       "      <td>188318</td>\n",
       "      <td>188318</td>\n",
       "      <td>188318</td>\n",
       "      <td>188318</td>\n",
       "      <td>188318</td>\n",
       "      <td>188318</td>\n",
       "    </tr>\n",
       "    <tr>\n",
       "      <th>unique</th>\n",
       "      <td>2</td>\n",
       "      <td>2</td>\n",
       "      <td>2</td>\n",
       "      <td>2</td>\n",
       "      <td>2</td>\n",
       "      <td>2</td>\n",
       "      <td>2</td>\n",
       "      <td>2</td>\n",
       "      <td>2</td>\n",
       "      <td>2</td>\n",
       "      <td>...</td>\n",
       "      <td>20</td>\n",
       "      <td>11</td>\n",
       "      <td>84</td>\n",
       "      <td>131</td>\n",
       "      <td>16</td>\n",
       "      <td>51</td>\n",
       "      <td>61</td>\n",
       "      <td>19</td>\n",
       "      <td>23</td>\n",
       "      <td>326</td>\n",
       "    </tr>\n",
       "    <tr>\n",
       "      <th>top</th>\n",
       "      <td>A</td>\n",
       "      <td>A</td>\n",
       "      <td>A</td>\n",
       "      <td>A</td>\n",
       "      <td>A</td>\n",
       "      <td>A</td>\n",
       "      <td>A</td>\n",
       "      <td>A</td>\n",
       "      <td>A</td>\n",
       "      <td>A</td>\n",
       "      <td>...</td>\n",
       "      <td>F</td>\n",
       "      <td>B</td>\n",
       "      <td>BI</td>\n",
       "      <td>CL</td>\n",
       "      <td>A</td>\n",
       "      <td>E</td>\n",
       "      <td>BM</td>\n",
       "      <td>A</td>\n",
       "      <td>K</td>\n",
       "      <td>HK</td>\n",
       "    </tr>\n",
       "    <tr>\n",
       "      <th>freq</th>\n",
       "      <td>141550</td>\n",
       "      <td>106721</td>\n",
       "      <td>177993</td>\n",
       "      <td>128395</td>\n",
       "      <td>123737</td>\n",
       "      <td>131693</td>\n",
       "      <td>183744</td>\n",
       "      <td>177274</td>\n",
       "      <td>113122</td>\n",
       "      <td>160213</td>\n",
       "      <td>...</td>\n",
       "      <td>47310</td>\n",
       "      <td>65512</td>\n",
       "      <td>152918</td>\n",
       "      <td>25305</td>\n",
       "      <td>128395</td>\n",
       "      <td>25148</td>\n",
       "      <td>26191</td>\n",
       "      <td>131693</td>\n",
       "      <td>43866</td>\n",
       "      <td>21061</td>\n",
       "    </tr>\n",
       "  </tbody>\n",
       "</table>\n",
       "<p>4 rows × 116 columns</p>\n",
       "</div>"
      ],
      "text/plain": [
       "          cat1    cat2    cat3    cat4    cat5    cat6    cat7    cat8  \\\n",
       "count   188318  188318  188318  188318  188318  188318  188318  188318   \n",
       "unique       2       2       2       2       2       2       2       2   \n",
       "top          A       A       A       A       A       A       A       A   \n",
       "freq    141550  106721  177993  128395  123737  131693  183744  177274   \n",
       "\n",
       "          cat9   cat10   ...    cat107  cat108  cat109  cat110  cat111  \\\n",
       "count   188318  188318   ...    188318  188318  188318  188318  188318   \n",
       "unique       2       2   ...        20      11      84     131      16   \n",
       "top          A       A   ...         F       B      BI      CL       A   \n",
       "freq    113122  160213   ...     47310   65512  152918   25305  128395   \n",
       "\n",
       "        cat112  cat113  cat114  cat115  cat116  \n",
       "count   188318  188318  188318  188318  188318  \n",
       "unique      51      61      19      23     326  \n",
       "top          E      BM       A       K      HK  \n",
       "freq     25148   26191  131693   43866   21061  \n",
       "\n",
       "[4 rows x 116 columns]"
      ]
     },
     "execution_count": 65,
     "metadata": {},
     "output_type": "execute_result"
    }
   ],
   "source": [
    "raw_summary_cat"
   ]
  },
  {
   "cell_type": "code",
   "execution_count": 66,
   "metadata": {},
   "outputs": [
    {
     "name": "stderr",
     "output_type": "stream",
     "text": [
      "c:\\python27\\lib\\site-packages\\ipykernel\\__main__.py:2: SettingWithCopyWarning: \n",
      "A value is trying to be set on a copy of a slice from a DataFrame.\n",
      "Try using .loc[row_indexer,col_indexer] = value instead\n",
      "\n",
      "See the caveats in the documentation: http://pandas.pydata.org/pandas-docs/stable/indexing.html#indexing-view-versus-copy\n",
      "  from ipykernel import kernelapp as app\n"
     ]
    }
   ],
   "source": [
    "temp = raw_train[['cat62','cat64','loss']]\n",
    "temp['comparison'] = temp.cat62==temp.cat64"
   ]
  },
  {
   "cell_type": "code",
   "execution_count": 67,
   "metadata": {},
   "outputs": [
    {
     "data": {
      "text/plain": [
       "0.0"
      ]
     },
     "execution_count": 67,
     "metadata": {},
     "output_type": "execute_result"
    }
   ],
   "source": [
    "float((188318 - sum(temp.comparison))/188318)\n",
    "# almost duplicated columns and this situation will happen a lot in this train data"
   ]
  },
  {
   "cell_type": "code",
   "execution_count": 83,
   "metadata": {},
   "outputs": [],
   "source": [
    "temp = raw_summary_cat.loc[:,raw_summary_cat.loc['unique']==2]"
   ]
  },
  {
   "cell_type": "code",
   "execution_count": 84,
   "metadata": {},
   "outputs": [],
   "source": [
    "temp = temp.loc[:,temp.loc['top']=='A']"
   ]
  },
  {
   "cell_type": "code",
   "execution_count": 85,
   "metadata": {},
   "outputs": [
    {
     "data": {
      "text/html": [
       "<div>\n",
       "<table border=\"1\" class=\"dataframe\">\n",
       "  <thead>\n",
       "    <tr style=\"text-align: right;\">\n",
       "      <th></th>\n",
       "      <th>cat1</th>\n",
       "      <th>cat2</th>\n",
       "      <th>cat3</th>\n",
       "      <th>cat4</th>\n",
       "      <th>cat5</th>\n",
       "      <th>cat6</th>\n",
       "      <th>cat7</th>\n",
       "      <th>cat8</th>\n",
       "      <th>cat9</th>\n",
       "      <th>cat10</th>\n",
       "      <th>...</th>\n",
       "      <th>cat63</th>\n",
       "      <th>cat64</th>\n",
       "      <th>cat65</th>\n",
       "      <th>cat66</th>\n",
       "      <th>cat67</th>\n",
       "      <th>cat68</th>\n",
       "      <th>cat69</th>\n",
       "      <th>cat70</th>\n",
       "      <th>cat71</th>\n",
       "      <th>cat72</th>\n",
       "    </tr>\n",
       "  </thead>\n",
       "  <tbody>\n",
       "    <tr>\n",
       "      <th>count</th>\n",
       "      <td>188318</td>\n",
       "      <td>188318</td>\n",
       "      <td>188318</td>\n",
       "      <td>188318</td>\n",
       "      <td>188318</td>\n",
       "      <td>188318</td>\n",
       "      <td>188318</td>\n",
       "      <td>188318</td>\n",
       "      <td>188318</td>\n",
       "      <td>188318</td>\n",
       "      <td>...</td>\n",
       "      <td>188318</td>\n",
       "      <td>188318</td>\n",
       "      <td>188318</td>\n",
       "      <td>188318</td>\n",
       "      <td>188318</td>\n",
       "      <td>188318</td>\n",
       "      <td>188318</td>\n",
       "      <td>188318</td>\n",
       "      <td>188318</td>\n",
       "      <td>188318</td>\n",
       "    </tr>\n",
       "    <tr>\n",
       "      <th>unique</th>\n",
       "      <td>2</td>\n",
       "      <td>2</td>\n",
       "      <td>2</td>\n",
       "      <td>2</td>\n",
       "      <td>2</td>\n",
       "      <td>2</td>\n",
       "      <td>2</td>\n",
       "      <td>2</td>\n",
       "      <td>2</td>\n",
       "      <td>2</td>\n",
       "      <td>...</td>\n",
       "      <td>2</td>\n",
       "      <td>2</td>\n",
       "      <td>2</td>\n",
       "      <td>2</td>\n",
       "      <td>2</td>\n",
       "      <td>2</td>\n",
       "      <td>2</td>\n",
       "      <td>2</td>\n",
       "      <td>2</td>\n",
       "      <td>2</td>\n",
       "    </tr>\n",
       "    <tr>\n",
       "      <th>top</th>\n",
       "      <td>A</td>\n",
       "      <td>A</td>\n",
       "      <td>A</td>\n",
       "      <td>A</td>\n",
       "      <td>A</td>\n",
       "      <td>A</td>\n",
       "      <td>A</td>\n",
       "      <td>A</td>\n",
       "      <td>A</td>\n",
       "      <td>A</td>\n",
       "      <td>...</td>\n",
       "      <td>A</td>\n",
       "      <td>A</td>\n",
       "      <td>A</td>\n",
       "      <td>A</td>\n",
       "      <td>A</td>\n",
       "      <td>A</td>\n",
       "      <td>A</td>\n",
       "      <td>A</td>\n",
       "      <td>A</td>\n",
       "      <td>A</td>\n",
       "    </tr>\n",
       "    <tr>\n",
       "      <th>freq</th>\n",
       "      <td>141550</td>\n",
       "      <td>106721</td>\n",
       "      <td>177993</td>\n",
       "      <td>128395</td>\n",
       "      <td>123737</td>\n",
       "      <td>131693</td>\n",
       "      <td>183744</td>\n",
       "      <td>177274</td>\n",
       "      <td>113122</td>\n",
       "      <td>160213</td>\n",
       "      <td>...</td>\n",
       "      <td>188239</td>\n",
       "      <td>188271</td>\n",
       "      <td>186056</td>\n",
       "      <td>179982</td>\n",
       "      <td>187626</td>\n",
       "      <td>188176</td>\n",
       "      <td>188011</td>\n",
       "      <td>188295</td>\n",
       "      <td>178646</td>\n",
       "      <td>118322</td>\n",
       "    </tr>\n",
       "  </tbody>\n",
       "</table>\n",
       "<p>4 rows × 72 columns</p>\n",
       "</div>"
      ],
      "text/plain": [
       "          cat1    cat2    cat3    cat4    cat5    cat6    cat7    cat8  \\\n",
       "count   188318  188318  188318  188318  188318  188318  188318  188318   \n",
       "unique       2       2       2       2       2       2       2       2   \n",
       "top          A       A       A       A       A       A       A       A   \n",
       "freq    141550  106721  177993  128395  123737  131693  183744  177274   \n",
       "\n",
       "          cat9   cat10   ...     cat63   cat64   cat65   cat66   cat67  \\\n",
       "count   188318  188318   ...    188318  188318  188318  188318  188318   \n",
       "unique       2       2   ...         2       2       2       2       2   \n",
       "top          A       A   ...         A       A       A       A       A   \n",
       "freq    113122  160213   ...    188239  188271  186056  179982  187626   \n",
       "\n",
       "         cat68   cat69   cat70   cat71   cat72  \n",
       "count   188318  188318  188318  188318  188318  \n",
       "unique       2       2       2       2       2  \n",
       "top          A       A       A       A       A  \n",
       "freq    188176  188011  188295  178646  118322  \n",
       "\n",
       "[4 rows x 72 columns]"
      ]
     },
     "execution_count": 85,
     "metadata": {},
     "output_type": "execute_result"
    }
   ],
   "source": [
    "temp"
   ]
  },
  {
   "cell_type": "code",
   "execution_count": 96,
   "metadata": {},
   "outputs": [
    {
     "data": {
      "text/html": [
       "<div>\n",
       "<table border=\"1\" class=\"dataframe\">\n",
       "  <thead>\n",
       "    <tr style=\"text-align: right;\">\n",
       "      <th></th>\n",
       "      <th>0</th>\n",
       "    </tr>\n",
       "  </thead>\n",
       "  <tbody>\n",
       "    <tr>\n",
       "      <th>count</th>\n",
       "      <td>72.000000</td>\n",
       "    </tr>\n",
       "    <tr>\n",
       "      <th>mean</th>\n",
       "      <td>175286.694444</td>\n",
       "    </tr>\n",
       "    <tr>\n",
       "      <th>std</th>\n",
       "      <td>19962.010439</td>\n",
       "    </tr>\n",
       "    <tr>\n",
       "      <th>min</th>\n",
       "      <td>106721.000000</td>\n",
       "    </tr>\n",
       "    <tr>\n",
       "      <th>25%</th>\n",
       "      <td>172029.250000</td>\n",
       "    </tr>\n",
       "    <tr>\n",
       "      <th>50%</th>\n",
       "      <td>183876.500000</td>\n",
       "    </tr>\n",
       "    <tr>\n",
       "      <th>75%</th>\n",
       "      <td>187653.000000</td>\n",
       "    </tr>\n",
       "    <tr>\n",
       "      <th>max</th>\n",
       "      <td>188295.000000</td>\n",
       "    </tr>\n",
       "  </tbody>\n",
       "</table>\n",
       "</div>"
      ],
      "text/plain": [
       "                   0\n",
       "count      72.000000\n",
       "mean   175286.694444\n",
       "std     19962.010439\n",
       "min    106721.000000\n",
       "25%    172029.250000\n",
       "50%    183876.500000\n",
       "75%    187653.000000\n",
       "max    188295.000000"
      ]
     },
     "execution_count": 96,
     "metadata": {},
     "output_type": "execute_result"
    }
   ],
   "source": [
    "x = pd.Series(temp.loc['freq'])\n",
    "x = pd.DataFrame(map(float,x))\n",
    "x.describe()"
   ]
  },
  {
   "cell_type": "code",
   "execution_count": 98,
   "metadata": {},
   "outputs": [],
   "source": [
    "import itertools"
   ]
  },
  {
   "cell_type": "code",
   "execution_count": 101,
   "metadata": {},
   "outputs": [
    {
     "data": {
      "text/plain": [
       "[('cat1', 'cat2'),\n",
       " ('cat1', 'cat3'),\n",
       " ('cat1', 'cat4'),\n",
       " ('cat1', 'cat5'),\n",
       " ('cat1', 'cat6')]"
      ]
     },
     "execution_count": 101,
     "metadata": {},
     "output_type": "execute_result"
    }
   ],
   "source": [
    "x = list(itertools.combinations(cat_col_name,2))\n",
    "x[:5]"
   ]
  },
  {
   "cell_type": "code",
   "execution_count": 174,
   "metadata": {},
   "outputs": [
    {
     "data": {
      "text/plain": [
       "6670"
      ]
     },
     "execution_count": 174,
     "metadata": {},
     "output_type": "execute_result"
    }
   ],
   "source": [
    "temp2 = pd.DataFrame(columns=('col_base','col_vs','vs','vs_rate'))\n",
    "len(x)  #6670"
   ]
  },
  {
   "cell_type": "code",
   "execution_count": 175,
   "metadata": {},
   "outputs": [
    {
     "name": "stderr",
     "output_type": "stream",
     "text": [
      "c:\\python27\\lib\\site-packages\\ipykernel\\__main__.py:3: SettingWithCopyWarning: \n",
      "A value is trying to be set on a copy of a slice from a DataFrame.\n",
      "Try using .loc[row_indexer,col_indexer] = value instead\n",
      "\n",
      "See the caveats in the documentation: http://pandas.pydata.org/pandas-docs/stable/indexing.html#indexing-view-versus-copy\n",
      "  app.launch_new_instance()\n"
     ]
    }
   ],
   "source": [
    "for i in range(len(x)):\n",
    "    y = raw_train[list(x[i])]\n",
    "    y['vs'] = y.iloc[:,0]==y.iloc[:,1]\n",
    "    temp2.set_value(i,'col_base', x[i][0])\n",
    "    temp2.set_value(i,'col_vs', x[i][1])\n",
    "    temp2.set_value(i,'vs', sum(y.vs))\n",
    "    temp2.set_value(i,'vs_rate',float(temp2.vs[i]/188318.))"
   ]
  },
  {
   "cell_type": "code",
   "execution_count": 176,
   "metadata": {},
   "outputs": [
    {
     "data": {
      "text/html": [
       "<div>\n",
       "<table border=\"1\" class=\"dataframe\">\n",
       "  <thead>\n",
       "    <tr style=\"text-align: right;\">\n",
       "      <th></th>\n",
       "      <th>col_base</th>\n",
       "      <th>col_vs</th>\n",
       "      <th>vs</th>\n",
       "      <th>vs_rate</th>\n",
       "    </tr>\n",
       "  </thead>\n",
       "  <tbody>\n",
       "    <tr>\n",
       "      <th>0</th>\n",
       "      <td>cat1</td>\n",
       "      <td>cat2</td>\n",
       "      <td>86921</td>\n",
       "      <td>0.461565</td>\n",
       "    </tr>\n",
       "    <tr>\n",
       "      <th>1</th>\n",
       "      <td>cat1</td>\n",
       "      <td>cat3</td>\n",
       "      <td>132751</td>\n",
       "      <td>0.70493</td>\n",
       "    </tr>\n",
       "    <tr>\n",
       "      <th>2</th>\n",
       "      <td>cat1</td>\n",
       "      <td>cat4</td>\n",
       "      <td>109311</td>\n",
       "      <td>0.58046</td>\n",
       "    </tr>\n",
       "    <tr>\n",
       "      <th>3</th>\n",
       "      <td>cat1</td>\n",
       "      <td>cat5</td>\n",
       "      <td>110007</td>\n",
       "      <td>0.584156</td>\n",
       "    </tr>\n",
       "    <tr>\n",
       "      <th>4</th>\n",
       "      <td>cat1</td>\n",
       "      <td>cat6</td>\n",
       "      <td>118961</td>\n",
       "      <td>0.631703</td>\n",
       "    </tr>\n",
       "  </tbody>\n",
       "</table>\n",
       "</div>"
      ],
      "text/plain": [
       "  col_base col_vs      vs   vs_rate\n",
       "0     cat1   cat2   86921  0.461565\n",
       "1     cat1   cat3  132751   0.70493\n",
       "2     cat1   cat4  109311   0.58046\n",
       "3     cat1   cat5  110007  0.584156\n",
       "4     cat1   cat6  118961  0.631703"
      ]
     },
     "execution_count": 176,
     "metadata": {},
     "output_type": "execute_result"
    }
   ],
   "source": [
    "raw_summar_cat_vs = temp2\n",
    "raw_summar_cat_vs.to_csv('./output/raw_summar_cat_vs.csv',encoding='utf-8')\n",
    "raw_summar_cat_vs.head()"
   ]
  },
  {
   "cell_type": "code",
   "execution_count": 177,
   "metadata": {},
   "outputs": [
    {
     "data": {
      "text/plain": [
       "count    6670.000000\n",
       "mean        0.486159\n",
       "std         0.407067\n",
       "min         0.000000\n",
       "dtype: float64"
      ]
     },
     "execution_count": 177,
     "metadata": {},
     "output_type": "execute_result"
    }
   ],
   "source": [
    "pd.Series(map(float,raw_summar_cat_vs.vs_rate)).describe()[:4]"
   ]
  },
  {
   "cell_type": "code",
   "execution_count": 179,
   "metadata": {},
   "outputs": [
    {
     "data": {
      "text/plain": [
       "count     2451\n",
       "unique      79\n",
       "top       cat7\n",
       "freq        69\n",
       "Name: col_base, dtype: object"
      ]
     },
     "execution_count": 179,
     "metadata": {},
     "output_type": "execute_result"
    }
   ],
   "source": [
    "temp2 = raw_summar_cat_vs[raw_summar_cat_vs.vs_rate>0.8]\n",
    "temp2.col_base.describe()"
   ]
  },
  {
   "cell_type": "code",
   "execution_count": 180,
   "metadata": {},
   "outputs": [],
   "source": [
    "import numpy as np"
   ]
  },
  {
   "cell_type": "code",
   "execution_count": 197,
   "metadata": {},
   "outputs": [],
   "source": [
    "temp3 = pd.Series(pd.Categorical(temp2.col_base, categories=np.unique(temp2.col_base)))\n",
    "temp3 = temp3.value_counts()\n",
    "temp3.to_csv('./output/raw_summary_cat_vs_gt80p.csv',encoding='utf-8')"
   ]
  },
  {
   "cell_type": "code",
   "execution_count": 199,
   "metadata": {},
   "outputs": [
    {
     "data": {
      "text/plain": [
       "cat7     69\n",
       "cat3     68\n",
       "cat8     65\n",
       "cat14    64\n",
       "cat15    63\n",
       "dtype: int64"
      ]
     },
     "execution_count": 199,
     "metadata": {},
     "output_type": "execute_result"
    }
   ],
   "source": [
    "temp3.head()"
   ]
  },
  {
   "cell_type": "code",
   "execution_count": 200,
   "metadata": {},
   "outputs": [],
   "source": [
    "temp2 = raw_summar_cat_vs[raw_summar_cat_vs.vs_rate>0.6]\n",
    "temp3 = pd.Series(pd.Categorical(temp2.col_base, categories=np.unique(temp2.col_base)))\n",
    "temp3 = temp3.value_counts()\n",
    "temp3.to_csv('./output/raw_summary_cat_vs_gt60p.csv',encoding='utf-8')"
   ]
  },
  {
   "cell_type": "code",
   "execution_count": 201,
   "metadata": {},
   "outputs": [
    {
     "data": {
      "text/plain": [
       "cat3     81\n",
       "cat7     77\n",
       "cat8     76\n",
       "cat1     74\n",
       "cat14    70\n",
       "dtype: int64"
      ]
     },
     "execution_count": 201,
     "metadata": {},
     "output_type": "execute_result"
    }
   ],
   "source": [
    "temp3.head()"
   ]
  },
  {
   "cell_type": "code",
   "execution_count": null,
   "metadata": {},
   "outputs": [],
   "source": []
  }
 ],
 "metadata": {
  "kernelspec": {
   "display_name": "Python 2",
   "language": "python",
   "name": "python2"
  },
  "language_info": {
   "codemirror_mode": {
    "name": "ipython",
    "version": 2
   },
   "file_extension": ".py",
   "mimetype": "text/x-python",
   "name": "python",
   "nbconvert_exporter": "python",
   "pygments_lexer": "ipython2",
   "version": "2.7.12"
  }
 },
 "nbformat": 4,
 "nbformat_minor": 1
}
