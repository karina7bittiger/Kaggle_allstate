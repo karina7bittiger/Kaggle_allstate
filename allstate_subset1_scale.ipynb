{
 "cells": [
  {
   "cell_type": "code",
   "execution_count": 1,
   "metadata": {
    "collapsed": true
   },
   "outputs": [],
   "source": [
    "import pandas as pd"
   ]
  },
  {
   "cell_type": "code",
   "execution_count": 14,
   "metadata": {
    "collapsed": true
   },
   "outputs": [],
   "source": [
    "raw_train = pd.read_csv('./output/raw_train_scale.csv')\n",
    "raw_train = raw_train.iloc[:,1:]"
   ]
  },
  {
   "cell_type": "markdown",
   "metadata": {},
   "source": [
    "### subset train based on category columns"
   ]
  },
  {
   "cell_type": "code",
   "execution_count": 15,
   "metadata": {
    "collapsed": true
   },
   "outputs": [],
   "source": [
    "train_cat_sub = raw_train\n",
    "train_col_names = raw_train.columns.values"
   ]
  },
  {
   "cell_type": "code",
   "execution_count": 16,
   "metadata": {
    "collapsed": true
   },
   "outputs": [],
   "source": [
    "col_cat_filter = pd.read_csv('./output/raw_summary_cat_vs_gt80p.csv')"
   ]
  },
  {
   "cell_type": "code",
   "execution_count": 6,
   "metadata": {
    "collapsed": true
   },
   "outputs": [],
   "source": [
    "import numpy as np"
   ]
  },
  {
   "cell_type": "code",
   "execution_count": 17,
   "metadata": {
    "collapsed": false
   },
   "outputs": [
    {
     "data": {
      "text/plain": [
       "array(['cat3', 'cat8', 'cat14', 'cat15', 'cat17'], dtype=object)"
      ]
     },
     "execution_count": 17,
     "metadata": {},
     "output_type": "execute_result"
    }
   ],
   "source": [
    "#x = col_cat_filter[col_cat_filter['69']>5]['cat7']\n",
    "x = col_cat_filter.iloc[:,0]\n",
    "x = np.array(x)\n",
    "x[:5]"
   ]
  },
  {
   "cell_type": "code",
   "execution_count": 18,
   "metadata": {
    "collapsed": false
   },
   "outputs": [
    {
     "data": {
      "text/plain": [
       "54"
      ]
     },
     "execution_count": 18,
     "metadata": {},
     "output_type": "execute_result"
    }
   ],
   "source": [
    "y = np.array(map(lambda i:i not in x, train_col_names))\n",
    "train_col_names_sub = np.array(train_col_names)\n",
    "train_col_names_sub = train_col_names_sub[y]\n",
    "len(train_col_names_sub)"
   ]
  },
  {
   "cell_type": "code",
   "execution_count": 19,
   "metadata": {
    "collapsed": false
   },
   "outputs": [
    {
     "data": {
      "text/html": [
       "<div>\n",
       "<table border=\"1\" class=\"dataframe\">\n",
       "  <thead>\n",
       "    <tr style=\"text-align: right;\">\n",
       "      <th></th>\n",
       "      <th>loss</th>\n",
       "      <th>cont1</th>\n",
       "      <th>cont2</th>\n",
       "      <th>cont3</th>\n",
       "      <th>cont4</th>\n",
       "      <th>cont5</th>\n",
       "      <th>cont6</th>\n",
       "      <th>cont7</th>\n",
       "      <th>cont8</th>\n",
       "      <th>cont9</th>\n",
       "      <th>...</th>\n",
       "      <th>cat107</th>\n",
       "      <th>cat108</th>\n",
       "      <th>cat109</th>\n",
       "      <th>cat110</th>\n",
       "      <th>cat111</th>\n",
       "      <th>cat112</th>\n",
       "      <th>cat113</th>\n",
       "      <th>cat114</th>\n",
       "      <th>cat115</th>\n",
       "      <th>cat116</th>\n",
       "    </tr>\n",
       "  </thead>\n",
       "  <tbody>\n",
       "    <tr>\n",
       "      <th>0</th>\n",
       "      <td>-0.283793</td>\n",
       "      <td>1.238750</td>\n",
       "      <td>-1.260936</td>\n",
       "      <td>-1.540471</td>\n",
       "      <td>1.409553</td>\n",
       "      <td>-0.848538</td>\n",
       "      <td>1.107908</td>\n",
       "      <td>-0.840070</td>\n",
       "      <td>-0.922092</td>\n",
       "      <td>1.023032</td>\n",
       "      <td>...</td>\n",
       "      <td>J</td>\n",
       "      <td>G</td>\n",
       "      <td>BU</td>\n",
       "      <td>BC</td>\n",
       "      <td>C</td>\n",
       "      <td>AS</td>\n",
       "      <td>S</td>\n",
       "      <td>A</td>\n",
       "      <td>O</td>\n",
       "      <td>LB</td>\n",
       "    </tr>\n",
       "    <tr>\n",
       "      <th>1</th>\n",
       "      <td>-0.603888</td>\n",
       "      <td>-0.870537</td>\n",
       "      <td>1.109451</td>\n",
       "      <td>0.463932</td>\n",
       "      <td>0.578923</td>\n",
       "      <td>1.906010</td>\n",
       "      <td>-0.253457</td>\n",
       "      <td>-0.271142</td>\n",
       "      <td>0.573972</td>\n",
       "      <td>-0.738944</td>\n",
       "      <td>...</td>\n",
       "      <td>K</td>\n",
       "      <td>K</td>\n",
       "      <td>BI</td>\n",
       "      <td>CQ</td>\n",
       "      <td>A</td>\n",
       "      <td>AV</td>\n",
       "      <td>BM</td>\n",
       "      <td>A</td>\n",
       "      <td>O</td>\n",
       "      <td>DP</td>\n",
       "    </tr>\n",
       "    <tr>\n",
       "      <th>2</th>\n",
       "      <td>-0.011104</td>\n",
       "      <td>-1.236521</td>\n",
       "      <td>-0.718477</td>\n",
       "      <td>-0.072846</td>\n",
       "      <td>-1.206334</td>\n",
       "      <td>-0.432284</td>\n",
       "      <td>-0.980633</td>\n",
       "      <td>-0.949428</td>\n",
       "      <td>-1.069556</td>\n",
       "      <td>-1.237183</td>\n",
       "      <td>...</td>\n",
       "      <td>F</td>\n",
       "      <td>A</td>\n",
       "      <td>AB</td>\n",
       "      <td>DK</td>\n",
       "      <td>A</td>\n",
       "      <td>C</td>\n",
       "      <td>AF</td>\n",
       "      <td>A</td>\n",
       "      <td>I</td>\n",
       "      <td>GK</td>\n",
       "    </tr>\n",
       "    <tr>\n",
       "      <th>3</th>\n",
       "      <td>-0.722256</td>\n",
       "      <td>-0.918075</td>\n",
       "      <td>0.234524</td>\n",
       "      <td>0.143849</td>\n",
       "      <td>-0.558452</td>\n",
       "      <td>-0.311730</td>\n",
       "      <td>-0.243577</td>\n",
       "      <td>-0.525875</td>\n",
       "      <td>-0.845049</td>\n",
       "      <td>-0.904033</td>\n",
       "      <td>...</td>\n",
       "      <td>K</td>\n",
       "      <td>K</td>\n",
       "      <td>BI</td>\n",
       "      <td>CS</td>\n",
       "      <td>C</td>\n",
       "      <td>N</td>\n",
       "      <td>AE</td>\n",
       "      <td>A</td>\n",
       "      <td>O</td>\n",
       "      <td>DJ</td>\n",
       "    </tr>\n",
       "    <tr>\n",
       "      <th>4</th>\n",
       "      <td>-0.094174</td>\n",
       "      <td>-1.175963</td>\n",
       "      <td>-1.675658</td>\n",
       "      <td>0.143849</td>\n",
       "      <td>-0.088079</td>\n",
       "      <td>1.037383</td>\n",
       "      <td>-1.523596</td>\n",
       "      <td>-1.331256</td>\n",
       "      <td>-1.207792</td>\n",
       "      <td>-1.456660</td>\n",
       "      <td>...</td>\n",
       "      <td>G</td>\n",
       "      <td>B</td>\n",
       "      <td>H</td>\n",
       "      <td>C</td>\n",
       "      <td>C</td>\n",
       "      <td>Y</td>\n",
       "      <td>BM</td>\n",
       "      <td>A</td>\n",
       "      <td>K</td>\n",
       "      <td>CK</td>\n",
       "    </tr>\n",
       "  </tbody>\n",
       "</table>\n",
       "<p>5 rows × 54 columns</p>\n",
       "</div>"
      ],
      "text/plain": [
       "       loss     cont1     cont2     cont3     cont4     cont5     cont6  \\\n",
       "0 -0.283793  1.238750 -1.260936 -1.540471  1.409553 -0.848538  1.107908   \n",
       "1 -0.603888 -0.870537  1.109451  0.463932  0.578923  1.906010 -0.253457   \n",
       "2 -0.011104 -1.236521 -0.718477 -0.072846 -1.206334 -0.432284 -0.980633   \n",
       "3 -0.722256 -0.918075  0.234524  0.143849 -0.558452 -0.311730 -0.243577   \n",
       "4 -0.094174 -1.175963 -1.675658  0.143849 -0.088079  1.037383 -1.523596   \n",
       "\n",
       "      cont7     cont8     cont9  ...    cat107  cat108  cat109  cat110  \\\n",
       "0 -0.840070 -0.922092  1.023032  ...         J       G      BU      BC   \n",
       "1 -0.271142  0.573972 -0.738944  ...         K       K      BI      CQ   \n",
       "2 -0.949428 -1.069556 -1.237183  ...         F       A      AB      DK   \n",
       "3 -0.525875 -0.845049 -0.904033  ...         K       K      BI      CS   \n",
       "4 -1.331256 -1.207792 -1.456660  ...         G       B       H       C   \n",
       "\n",
       "   cat111  cat112 cat113 cat114 cat115 cat116  \n",
       "0       C      AS      S      A      O     LB  \n",
       "1       A      AV     BM      A      O     DP  \n",
       "2       A       C     AF      A      I     GK  \n",
       "3       C       N     AE      A      O     DJ  \n",
       "4       C       Y     BM      A      K     CK  \n",
       "\n",
       "[5 rows x 54 columns]"
      ]
     },
     "execution_count": 19,
     "metadata": {},
     "output_type": "execute_result"
    }
   ],
   "source": [
    "train_cat_sub = raw_train[train_col_names_sub]\n",
    "train_cat_sub.to_csv('./output/train_cat_sub_gt80_scale.csv',encoding='utf-8')\n",
    "train_cat_sub.head()"
   ]
  },
  {
   "cell_type": "code",
   "execution_count": 21,
   "metadata": {
    "collapsed": false
   },
   "outputs": [
    {
     "data": {
      "text/html": [
       "<div>\n",
       "<table border=\"1\" class=\"dataframe\">\n",
       "  <thead>\n",
       "    <tr style=\"text-align: right;\">\n",
       "      <th></th>\n",
       "      <th>cat3</th>\n",
       "      <th>81</th>\n",
       "    </tr>\n",
       "  </thead>\n",
       "  <tbody>\n",
       "    <tr>\n",
       "      <th>0</th>\n",
       "      <td>cat7</td>\n",
       "      <td>77</td>\n",
       "    </tr>\n",
       "    <tr>\n",
       "      <th>1</th>\n",
       "      <td>cat8</td>\n",
       "      <td>76</td>\n",
       "    </tr>\n",
       "    <tr>\n",
       "      <th>2</th>\n",
       "      <td>cat1</td>\n",
       "      <td>74</td>\n",
       "    </tr>\n",
       "    <tr>\n",
       "      <th>3</th>\n",
       "      <td>cat14</td>\n",
       "      <td>70</td>\n",
       "    </tr>\n",
       "    <tr>\n",
       "      <th>4</th>\n",
       "      <td>cat11</td>\n",
       "      <td>70</td>\n",
       "    </tr>\n",
       "  </tbody>\n",
       "</table>\n",
       "</div>"
      ],
      "text/plain": [
       "    cat3  81\n",
       "0   cat7  77\n",
       "1   cat8  76\n",
       "2   cat1  74\n",
       "3  cat14  70\n",
       "4  cat11  70"
      ]
     },
     "execution_count": 21,
     "metadata": {},
     "output_type": "execute_result"
    }
   ],
   "source": [
    "col_cat_filter = pd.read_csv('./output/raw_summary_cat_vs_gt60p.csv')\n",
    "col_cat_filter.head()"
   ]
  },
  {
   "cell_type": "code",
   "execution_count": 22,
   "metadata": {
    "collapsed": false
   },
   "outputs": [
    {
     "data": {
      "text/plain": [
       "array(['cat7', 'cat8', 'cat1', 'cat14', 'cat11'], dtype=object)"
      ]
     },
     "execution_count": 22,
     "metadata": {},
     "output_type": "execute_result"
    }
   ],
   "source": [
    "#x = col_cat_filter[col_cat_filter['81']>5]['cat3']\n",
    "x = col_cat_filter.iloc[:,0]\n",
    "x = np.array(x)\n",
    "x[:5]"
   ]
  },
  {
   "cell_type": "code",
   "execution_count": 23,
   "metadata": {
    "collapsed": false
   },
   "outputs": [
    {
     "data": {
      "text/plain": [
       "44"
      ]
     },
     "execution_count": 23,
     "metadata": {},
     "output_type": "execute_result"
    }
   ],
   "source": [
    "y = np.array(map(lambda i:i not in x, train_col_names))\n",
    "train_col_names_sub = np.array(train_col_names)\n",
    "train_col_names_sub = train_col_names_sub[y]\n",
    "train_cat_sub = raw_train[train_col_names_sub]\n",
    "len(train_col_names_sub)"
   ]
  },
  {
   "cell_type": "code",
   "execution_count": 24,
   "metadata": {
    "collapsed": false
   },
   "outputs": [
    {
     "data": {
      "text/html": [
       "<div>\n",
       "<table border=\"1\" class=\"dataframe\">\n",
       "  <thead>\n",
       "    <tr style=\"text-align: right;\">\n",
       "      <th></th>\n",
       "      <th>loss</th>\n",
       "      <th>cont1</th>\n",
       "      <th>cont2</th>\n",
       "      <th>cont3</th>\n",
       "      <th>cont4</th>\n",
       "      <th>cont5</th>\n",
       "      <th>cont6</th>\n",
       "      <th>cont7</th>\n",
       "      <th>cont8</th>\n",
       "      <th>cont9</th>\n",
       "      <th>...</th>\n",
       "      <th>cat107</th>\n",
       "      <th>cat108</th>\n",
       "      <th>cat109</th>\n",
       "      <th>cat110</th>\n",
       "      <th>cat111</th>\n",
       "      <th>cat112</th>\n",
       "      <th>cat113</th>\n",
       "      <th>cat114</th>\n",
       "      <th>cat115</th>\n",
       "      <th>cat116</th>\n",
       "    </tr>\n",
       "  </thead>\n",
       "  <tbody>\n",
       "    <tr>\n",
       "      <th>0</th>\n",
       "      <td>-0.283793</td>\n",
       "      <td>1.238750</td>\n",
       "      <td>-1.260936</td>\n",
       "      <td>-1.540471</td>\n",
       "      <td>1.409553</td>\n",
       "      <td>-0.848538</td>\n",
       "      <td>1.107908</td>\n",
       "      <td>-0.840070</td>\n",
       "      <td>-0.922092</td>\n",
       "      <td>1.023032</td>\n",
       "      <td>...</td>\n",
       "      <td>J</td>\n",
       "      <td>G</td>\n",
       "      <td>BU</td>\n",
       "      <td>BC</td>\n",
       "      <td>C</td>\n",
       "      <td>AS</td>\n",
       "      <td>S</td>\n",
       "      <td>A</td>\n",
       "      <td>O</td>\n",
       "      <td>LB</td>\n",
       "    </tr>\n",
       "    <tr>\n",
       "      <th>1</th>\n",
       "      <td>-0.603888</td>\n",
       "      <td>-0.870537</td>\n",
       "      <td>1.109451</td>\n",
       "      <td>0.463932</td>\n",
       "      <td>0.578923</td>\n",
       "      <td>1.906010</td>\n",
       "      <td>-0.253457</td>\n",
       "      <td>-0.271142</td>\n",
       "      <td>0.573972</td>\n",
       "      <td>-0.738944</td>\n",
       "      <td>...</td>\n",
       "      <td>K</td>\n",
       "      <td>K</td>\n",
       "      <td>BI</td>\n",
       "      <td>CQ</td>\n",
       "      <td>A</td>\n",
       "      <td>AV</td>\n",
       "      <td>BM</td>\n",
       "      <td>A</td>\n",
       "      <td>O</td>\n",
       "      <td>DP</td>\n",
       "    </tr>\n",
       "    <tr>\n",
       "      <th>2</th>\n",
       "      <td>-0.011104</td>\n",
       "      <td>-1.236521</td>\n",
       "      <td>-0.718477</td>\n",
       "      <td>-0.072846</td>\n",
       "      <td>-1.206334</td>\n",
       "      <td>-0.432284</td>\n",
       "      <td>-0.980633</td>\n",
       "      <td>-0.949428</td>\n",
       "      <td>-1.069556</td>\n",
       "      <td>-1.237183</td>\n",
       "      <td>...</td>\n",
       "      <td>F</td>\n",
       "      <td>A</td>\n",
       "      <td>AB</td>\n",
       "      <td>DK</td>\n",
       "      <td>A</td>\n",
       "      <td>C</td>\n",
       "      <td>AF</td>\n",
       "      <td>A</td>\n",
       "      <td>I</td>\n",
       "      <td>GK</td>\n",
       "    </tr>\n",
       "    <tr>\n",
       "      <th>3</th>\n",
       "      <td>-0.722256</td>\n",
       "      <td>-0.918075</td>\n",
       "      <td>0.234524</td>\n",
       "      <td>0.143849</td>\n",
       "      <td>-0.558452</td>\n",
       "      <td>-0.311730</td>\n",
       "      <td>-0.243577</td>\n",
       "      <td>-0.525875</td>\n",
       "      <td>-0.845049</td>\n",
       "      <td>-0.904033</td>\n",
       "      <td>...</td>\n",
       "      <td>K</td>\n",
       "      <td>K</td>\n",
       "      <td>BI</td>\n",
       "      <td>CS</td>\n",
       "      <td>C</td>\n",
       "      <td>N</td>\n",
       "      <td>AE</td>\n",
       "      <td>A</td>\n",
       "      <td>O</td>\n",
       "      <td>DJ</td>\n",
       "    </tr>\n",
       "    <tr>\n",
       "      <th>4</th>\n",
       "      <td>-0.094174</td>\n",
       "      <td>-1.175963</td>\n",
       "      <td>-1.675658</td>\n",
       "      <td>0.143849</td>\n",
       "      <td>-0.088079</td>\n",
       "      <td>1.037383</td>\n",
       "      <td>-1.523596</td>\n",
       "      <td>-1.331256</td>\n",
       "      <td>-1.207792</td>\n",
       "      <td>-1.456660</td>\n",
       "      <td>...</td>\n",
       "      <td>G</td>\n",
       "      <td>B</td>\n",
       "      <td>H</td>\n",
       "      <td>C</td>\n",
       "      <td>C</td>\n",
       "      <td>Y</td>\n",
       "      <td>BM</td>\n",
       "      <td>A</td>\n",
       "      <td>K</td>\n",
       "      <td>CK</td>\n",
       "    </tr>\n",
       "  </tbody>\n",
       "</table>\n",
       "<p>5 rows × 44 columns</p>\n",
       "</div>"
      ],
      "text/plain": [
       "       loss     cont1     cont2     cont3     cont4     cont5     cont6  \\\n",
       "0 -0.283793  1.238750 -1.260936 -1.540471  1.409553 -0.848538  1.107908   \n",
       "1 -0.603888 -0.870537  1.109451  0.463932  0.578923  1.906010 -0.253457   \n",
       "2 -0.011104 -1.236521 -0.718477 -0.072846 -1.206334 -0.432284 -0.980633   \n",
       "3 -0.722256 -0.918075  0.234524  0.143849 -0.558452 -0.311730 -0.243577   \n",
       "4 -0.094174 -1.175963 -1.675658  0.143849 -0.088079  1.037383 -1.523596   \n",
       "\n",
       "      cont7     cont8     cont9  ...    cat107  cat108  cat109  cat110  \\\n",
       "0 -0.840070 -0.922092  1.023032  ...         J       G      BU      BC   \n",
       "1 -0.271142  0.573972 -0.738944  ...         K       K      BI      CQ   \n",
       "2 -0.949428 -1.069556 -1.237183  ...         F       A      AB      DK   \n",
       "3 -0.525875 -0.845049 -0.904033  ...         K       K      BI      CS   \n",
       "4 -1.331256 -1.207792 -1.456660  ...         G       B       H       C   \n",
       "\n",
       "   cat111  cat112 cat113 cat114 cat115 cat116  \n",
       "0       C      AS      S      A      O     LB  \n",
       "1       A      AV     BM      A      O     DP  \n",
       "2       A       C     AF      A      I     GK  \n",
       "3       C       N     AE      A      O     DJ  \n",
       "4       C       Y     BM      A      K     CK  \n",
       "\n",
       "[5 rows x 44 columns]"
      ]
     },
     "execution_count": 24,
     "metadata": {},
     "output_type": "execute_result"
    }
   ],
   "source": [
    "train_cat_sub.to_csv('./output/train_cat_sub_gt60_scale.csv',encoding='utf-8')\n",
    "train_cat_sub.head()"
   ]
  },
  {
   "cell_type": "code",
   "execution_count": null,
   "metadata": {
    "collapsed": true
   },
   "outputs": [],
   "source": []
  }
 ],
 "metadata": {
  "kernelspec": {
   "display_name": "Python [default]",
   "language": "python",
   "name": "python2"
  },
  "language_info": {
   "codemirror_mode": {
    "name": "ipython",
    "version": 2
   },
   "file_extension": ".py",
   "mimetype": "text/x-python",
   "name": "python",
   "nbconvert_exporter": "python",
   "pygments_lexer": "ipython2",
   "version": "2.7.12"
  }
 },
 "nbformat": 4,
 "nbformat_minor": 1
}
