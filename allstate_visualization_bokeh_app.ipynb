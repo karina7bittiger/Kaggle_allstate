{
 "cells": [
  {
   "cell_type": "code",
   "execution_count": 1,
   "metadata": {},
   "outputs": [],
   "source": [
    "import pandas as pd"
   ]
  },
  {
   "cell_type": "code",
   "execution_count": 2,
   "metadata": {},
   "outputs": [],
   "source": [
    "from bokeh.plotting import figure, output_file, show\n",
    "from bokeh.io import output_file, show, curdoc\n",
    "from bokeh.layouts import widgetbox,layout\n",
    "from bokeh.models import ColumnDataSource\n",
    "from bokeh.models.widgets import Button, RadioButtonGroup, Select, Slider, CheckboxButtonGroup\n",
    "from bokeh.palettes import PuOr"
   ]
  },
  {
   "cell_type": "code",
   "execution_count": 3,
   "metadata": {},
   "outputs": [],
   "source": [
    "raw_train_num = pd.read_csv('./output/raw_train_num.csv')"
   ]
  },
  {
   "cell_type": "code",
   "execution_count": 4,
   "metadata": {},
   "outputs": [
    {
     "data": {
      "text/plain": [
       "array(['cont1', 'cont2', 'cont3', 'cont4', 'cont5', 'cont6', 'cont7',\n",
       "       'cont8', 'cont9', 'cont10', 'cont11', 'cont12', 'cont13', 'cont14'], dtype=object)"
      ]
     },
     "execution_count": 4,
     "metadata": {},
     "output_type": "execute_result"
    }
   ],
   "source": [
    "raw_train_num.columns.values[0]='index'\n",
    "raw_train_num = raw_train_num.set_index('index')\n",
    "column_name = raw_train_num.columns.values\n",
    "column_name"
   ]
  },
  {
   "cell_type": "code",
   "execution_count": 5,
   "metadata": {},
   "outputs": [],
   "source": [
    "#if output a html file\n",
    "output_file('./output/visual_raw_train_num_lines.html')"
   ]
  },
  {
   "cell_type": "code",
   "execution_count": 41,
   "metadata": {},
   "outputs": [],
   "source": [
    "temp = ColumnDataSource(data=dict(x=[],y=[]))"
   ]
  },
  {
   "cell_type": "code",
   "execution_count": 30,
   "metadata": {},
   "outputs": [],
   "source": [
    "slider_1 = Slider(start=0, end=1000, value=500, step=100, title=\"num_of_row\")\n",
    "#button_group = CheckboxButtonGroup(labels=list(column_name),active=[])\n",
    "select_1 = Select(title='base_col',options=list(column_name),value='cont3')\n",
    "select_2 = Select(title='vs_col',options=list(column_name),value='cont2')\n",
    "#show(widgetbox(slider, button_group))\n",
    "#print button_group.active"
   ]
  },
  {
   "cell_type": "code",
   "execution_count": 31,
   "metadata": {},
   "outputs": [],
   "source": [
    "p = figure(title=\"raw_train_num lines\",y_axis_label='cont_')\n",
    "p.circle(x=slider_1.value,y='x',source = temp,color='orchid', legend=select_1.value)\n",
    "p.circle(x=slider_1.value,y='y',source = temp,color='skyblue', legend=select_2.value)\n",
    "p.xgrid.minor_grid_line_color = 'navy'\n",
    "p.xgrid.minor_grid_line_alpha = 0.1"
   ]
  },
  {
   "cell_type": "code",
   "execution_count": 56,
   "metadata": {},
   "outputs": [],
   "source": [
    "def update_plot(attrname, old, new):\n",
    "    xrow = slider_1.value\n",
    "    xcol = select_1.value\n",
    "    ycol = select_2.value\n",
    "    df = raw_train_num.ix[:xrow,[xcol,ycol]]\n",
    "    temp.data.update(dict(x=df.iloc[:,0],y=df.iloc[:,1]))"
   ]
  },
  {
   "cell_type": "code",
   "execution_count": 49,
   "metadata": {},
   "outputs": [],
   "source": [
    "controls = [slider_1,select_1,select_2]\n",
    "for i in controls:\n",
    "    i.on_change('value', lambda attr, old, new: update_plot())"
   ]
  },
  {
   "cell_type": "code",
   "execution_count": 50,
   "metadata": {},
   "outputs": [],
   "source": [
    "#layout = row(widgetbox(slider, button_group), p)\n",
    "inputs = widgetbox(*controls, sizing_mode='fixed')\n",
    "l = layout([[inputs, p]])\n",
    "update_plot()  # initial load of the data\n",
    "curdoc().add_root(l)\n",
    "#curdoc().title = \"show\"\n",
    "#curdoc()"
   ]
  },
  {
   "cell_type": "code",
   "execution_count": 51,
   "metadata": {},
   "outputs": [
    {
     "name": "stdout",
     "output_type": "stream",
     "text": [
      "index\n",
      "0    0.187583\n",
      "1    0.592681\n",
      "2    0.484196\n",
      "3    0.527991\n",
      "Name: cont3, dtype: float64 index\n",
      "0    0.245921\n",
      "1    0.737068\n",
      "2    0.358319\n",
      "3    0.555782\n",
      "Name: cont2, dtype: float64\n"
     ]
    }
   ],
   "source": [
    "print temp.data['x'][:4], temp.data['y'][:4]"
   ]
  },
  {
   "cell_type": "code",
   "execution_count": 14,
   "metadata": {},
   "outputs": [
    {
     "name": "stdout",
     "output_type": "stream",
     "text": [
      "<bokeh.document.Document object at 0x05ACBE30>\n"
     ]
    }
   ],
   "source": [
    "print curdoc()"
   ]
  },
  {
   "cell_type": "code",
   "execution_count": 54,
   "metadata": {},
   "outputs": [],
   "source": [
    "curdoc().add_root(l)"
   ]
  },
  {
   "cell_type": "code",
   "execution_count": 57,
   "metadata": {},
   "outputs": [
    {
     "ename": "TypeError",
     "evalue": "update_plot() takes exactly 3 arguments (0 given)",
     "output_type": "error",
     "traceback": [
      "\u001b[0;31m---------------------------------------------------------------------------\u001b[0m",
      "\u001b[0;31mTypeError\u001b[0m                                 Traceback (most recent call last)",
      "\u001b[0;32m<ipython-input-57-704760c756a7>\u001b[0m in \u001b[0;36m<module>\u001b[0;34m()\u001b[0m\n\u001b[0;32m----> 1\u001b[0;31m \u001b[0mslider_1\u001b[0m\u001b[1;33m.\u001b[0m\u001b[0mon_change\u001b[0m\u001b[1;33m(\u001b[0m\u001b[1;34m'value'\u001b[0m\u001b[1;33m,\u001b[0m\u001b[0mupdate_plot\u001b[0m\u001b[1;33m(\u001b[0m\u001b[1;33m)\u001b[0m\u001b[1;33m)\u001b[0m\u001b[1;33m\u001b[0m\u001b[0m\n\u001b[0m",
      "\u001b[0;31mTypeError\u001b[0m: update_plot() takes exactly 3 arguments (0 given)"
     ]
    }
   ],
   "source": [
    "slider_1.on_change('value',update_plot())"
   ]
  },
  {
   "cell_type": "code",
   "execution_count": null,
   "metadata": {},
   "outputs": [],
   "source": []
  }
 ],
 "metadata": {
  "kernelspec": {
   "display_name": "Python 2",
   "language": "python",
   "name": "python2"
  },
  "language_info": {
   "codemirror_mode": {
    "name": "ipython",
    "version": 2
   },
   "file_extension": ".py",
   "mimetype": "text/x-python",
   "name": "python",
   "nbconvert_exporter": "python",
   "pygments_lexer": "ipython2",
   "version": "2.7.12"
  }
 },
 "nbformat": 4,
 "nbformat_minor": 1
}
