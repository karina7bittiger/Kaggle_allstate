{
 "cells": [
  {
   "cell_type": "code",
   "execution_count": 1,
   "metadata": {
    "collapsed": true
   },
   "outputs": [],
   "source": [
    "import pandas as pd"
   ]
  },
  {
   "cell_type": "code",
   "execution_count": 2,
   "metadata": {
    "collapsed": false
   },
   "outputs": [],
   "source": [
    "raw_test = pd.read_csv('./output/raw_test_scale.csv')\n",
    "raw_test = raw_test.iloc[:,1:]"
   ]
  },
  {
   "cell_type": "markdown",
   "metadata": {},
   "source": [
    "### subset test based on category columns"
   ]
  },
  {
   "cell_type": "code",
   "execution_count": 3,
   "metadata": {
    "collapsed": true
   },
   "outputs": [],
   "source": [
    "test_cat_sub = raw_test\n",
    "test_col_names = raw_test.columns.values"
   ]
  },
  {
   "cell_type": "code",
   "execution_count": 4,
   "metadata": {
    "collapsed": true
   },
   "outputs": [],
   "source": [
    "col_cat_filter = pd.read_csv('./output/raw_summary_cat_vs_gt80p.csv')"
   ]
  },
  {
   "cell_type": "code",
   "execution_count": 5,
   "metadata": {
    "collapsed": true
   },
   "outputs": [],
   "source": [
    "import numpy as np"
   ]
  },
  {
   "cell_type": "code",
   "execution_count": 6,
   "metadata": {
    "collapsed": false
   },
   "outputs": [
    {
     "data": {
      "text/plain": [
       "array(['cat3', 'cat8', 'cat14', 'cat15', 'cat17'], dtype=object)"
      ]
     },
     "execution_count": 6,
     "metadata": {},
     "output_type": "execute_result"
    }
   ],
   "source": [
    "#x = col_cat_filter[col_cat_filter['69']>5]['cat7']\n",
    "x = col_cat_filter.iloc[:,0]\n",
    "x = np.array(x)\n",
    "x[:5]"
   ]
  },
  {
   "cell_type": "code",
   "execution_count": 7,
   "metadata": {
    "collapsed": false
   },
   "outputs": [
    {
     "data": {
      "text/plain": [
       "53"
      ]
     },
     "execution_count": 7,
     "metadata": {},
     "output_type": "execute_result"
    }
   ],
   "source": [
    "y = np.array(map(lambda i:i not in x, test_col_names))\n",
    "test_col_names_sub = np.array(test_col_names)\n",
    "test_col_names_sub = test_col_names_sub[y]\n",
    "len(test_col_names_sub)"
   ]
  },
  {
   "cell_type": "code",
   "execution_count": 8,
   "metadata": {
    "collapsed": false
   },
   "outputs": [
    {
     "data": {
      "text/html": [
       "<div>\n",
       "<table border=\"1\" class=\"dataframe\">\n",
       "  <thead>\n",
       "    <tr style=\"text-align: right;\">\n",
       "      <th></th>\n",
       "      <th>cont1</th>\n",
       "      <th>cont2</th>\n",
       "      <th>cont3</th>\n",
       "      <th>cont4</th>\n",
       "      <th>cont5</th>\n",
       "      <th>cont6</th>\n",
       "      <th>cont7</th>\n",
       "      <th>cont8</th>\n",
       "      <th>cont9</th>\n",
       "      <th>cont10</th>\n",
       "      <th>...</th>\n",
       "      <th>cat107</th>\n",
       "      <th>cat108</th>\n",
       "      <th>cat109</th>\n",
       "      <th>cat110</th>\n",
       "      <th>cat111</th>\n",
       "      <th>cat112</th>\n",
       "      <th>cat113</th>\n",
       "      <th>cat114</th>\n",
       "      <th>cat115</th>\n",
       "      <th>cat116</th>\n",
       "    </tr>\n",
       "  </thead>\n",
       "  <tbody>\n",
       "    <tr>\n",
       "      <th>0</th>\n",
       "      <td>-0.919627</td>\n",
       "      <td>-1.004841</td>\n",
       "      <td>-1.245845</td>\n",
       "      <td>-0.424126</td>\n",
       "      <td>-0.987465</td>\n",
       "      <td>-0.124516</td>\n",
       "      <td>-0.941866</td>\n",
       "      <td>0.625858</td>\n",
       "      <td>-0.781654</td>\n",
       "      <td>-0.638611</td>\n",
       "      <td>...</td>\n",
       "      <td>L</td>\n",
       "      <td>K</td>\n",
       "      <td>BI</td>\n",
       "      <td>BC</td>\n",
       "      <td>A</td>\n",
       "      <td>J</td>\n",
       "      <td>AX</td>\n",
       "      <td>A</td>\n",
       "      <td>Q</td>\n",
       "      <td>HG</td>\n",
       "    </tr>\n",
       "    <tr>\n",
       "      <th>1</th>\n",
       "      <td>0.746364</td>\n",
       "      <td>0.550513</td>\n",
       "      <td>0.773525</td>\n",
       "      <td>2.154891</td>\n",
       "      <td>1.667974</td>\n",
       "      <td>-0.047492</td>\n",
       "      <td>-0.236131</td>\n",
       "      <td>1.132050</td>\n",
       "      <td>0.180553</td>\n",
       "      <td>0.565214</td>\n",
       "      <td>...</td>\n",
       "      <td>F</td>\n",
       "      <td>B</td>\n",
       "      <td>BI</td>\n",
       "      <td>CO</td>\n",
       "      <td>E</td>\n",
       "      <td>G</td>\n",
       "      <td>X</td>\n",
       "      <td>A</td>\n",
       "      <td>L</td>\n",
       "      <td>HK</td>\n",
       "    </tr>\n",
       "    <tr>\n",
       "      <th>2</th>\n",
       "      <td>-1.083390</td>\n",
       "      <td>1.112616</td>\n",
       "      <td>1.055311</td>\n",
       "      <td>-0.377322</td>\n",
       "      <td>1.104120</td>\n",
       "      <td>-1.361463</td>\n",
       "      <td>-0.896536</td>\n",
       "      <td>-0.951251</td>\n",
       "      <td>-0.781654</td>\n",
       "      <td>-1.041248</td>\n",
       "      <td>...</td>\n",
       "      <td>G</td>\n",
       "      <td>A</td>\n",
       "      <td>BI</td>\n",
       "      <td>CS</td>\n",
       "      <td>C</td>\n",
       "      <td>U</td>\n",
       "      <td>AE</td>\n",
       "      <td>A</td>\n",
       "      <td>K</td>\n",
       "      <td>CK</td>\n",
       "    </tr>\n",
       "    <tr>\n",
       "      <th>3</th>\n",
       "      <td>-1.201452</td>\n",
       "      <td>0.845220</td>\n",
       "      <td>0.468046</td>\n",
       "      <td>-0.651952</td>\n",
       "      <td>-0.433108</td>\n",
       "      <td>-0.594719</td>\n",
       "      <td>-0.803751</td>\n",
       "      <td>-0.436589</td>\n",
       "      <td>-0.843587</td>\n",
       "      <td>-0.990105</td>\n",
       "      <td>...</td>\n",
       "      <td>K</td>\n",
       "      <td>K</td>\n",
       "      <td>BI</td>\n",
       "      <td>CR</td>\n",
       "      <td>A</td>\n",
       "      <td>AY</td>\n",
       "      <td>AJ</td>\n",
       "      <td>A</td>\n",
       "      <td>P</td>\n",
       "      <td>DJ</td>\n",
       "    </tr>\n",
       "    <tr>\n",
       "      <th>4</th>\n",
       "      <td>0.316018</td>\n",
       "      <td>-1.004841</td>\n",
       "      <td>-1.163270</td>\n",
       "      <td>0.970233</td>\n",
       "      <td>-0.884485</td>\n",
       "      <td>-0.453981</td>\n",
       "      <td>-0.526796</td>\n",
       "      <td>-1.255437</td>\n",
       "      <td>-0.267415</td>\n",
       "      <td>0.035767</td>\n",
       "      <td>...</td>\n",
       "      <td>E</td>\n",
       "      <td>B</td>\n",
       "      <td>AB</td>\n",
       "      <td>EG</td>\n",
       "      <td>A</td>\n",
       "      <td>E</td>\n",
       "      <td>I</td>\n",
       "      <td>C</td>\n",
       "      <td>J</td>\n",
       "      <td>HA</td>\n",
       "    </tr>\n",
       "  </tbody>\n",
       "</table>\n",
       "<p>5 rows × 53 columns</p>\n",
       "</div>"
      ],
      "text/plain": [
       "      cont1     cont2     cont3     cont4     cont5     cont6     cont7  \\\n",
       "0 -0.919627 -1.004841 -1.245845 -0.424126 -0.987465 -0.124516 -0.941866   \n",
       "1  0.746364  0.550513  0.773525  2.154891  1.667974 -0.047492 -0.236131   \n",
       "2 -1.083390  1.112616  1.055311 -0.377322  1.104120 -1.361463 -0.896536   \n",
       "3 -1.201452  0.845220  0.468046 -0.651952 -0.433108 -0.594719 -0.803751   \n",
       "4  0.316018 -1.004841 -1.163270  0.970233 -0.884485 -0.453981 -0.526796   \n",
       "\n",
       "      cont8     cont9    cont10  ...    cat107  cat108  cat109  cat110  \\\n",
       "0  0.625858 -0.781654 -0.638611  ...         L       K      BI      BC   \n",
       "1  1.132050  0.180553  0.565214  ...         F       B      BI      CO   \n",
       "2 -0.951251 -0.781654 -1.041248  ...         G       A      BI      CS   \n",
       "3 -0.436589 -0.843587 -0.990105  ...         K       K      BI      CR   \n",
       "4 -1.255437 -0.267415  0.035767  ...         E       B      AB      EG   \n",
       "\n",
       "   cat111 cat112 cat113 cat114 cat115 cat116  \n",
       "0       A      J     AX      A      Q     HG  \n",
       "1       E      G      X      A      L     HK  \n",
       "2       C      U     AE      A      K     CK  \n",
       "3       A     AY     AJ      A      P     DJ  \n",
       "4       A      E      I      C      J     HA  \n",
       "\n",
       "[5 rows x 53 columns]"
      ]
     },
     "execution_count": 8,
     "metadata": {},
     "output_type": "execute_result"
    }
   ],
   "source": [
    "test_cat_sub = raw_test[test_col_names_sub]\n",
    "test_cat_sub.to_csv('./output/test_cat_sub_gt80_scale.csv',encoding='utf-8')\n",
    "test_cat_sub.head()"
   ]
  },
  {
   "cell_type": "code",
   "execution_count": 9,
   "metadata": {
    "collapsed": false
   },
   "outputs": [
    {
     "data": {
      "text/html": [
       "<div>\n",
       "<table border=\"1\" class=\"dataframe\">\n",
       "  <thead>\n",
       "    <tr style=\"text-align: right;\">\n",
       "      <th></th>\n",
       "      <th>cat3</th>\n",
       "      <th>81</th>\n",
       "    </tr>\n",
       "  </thead>\n",
       "  <tbody>\n",
       "    <tr>\n",
       "      <th>0</th>\n",
       "      <td>cat7</td>\n",
       "      <td>77</td>\n",
       "    </tr>\n",
       "    <tr>\n",
       "      <th>1</th>\n",
       "      <td>cat8</td>\n",
       "      <td>76</td>\n",
       "    </tr>\n",
       "    <tr>\n",
       "      <th>2</th>\n",
       "      <td>cat1</td>\n",
       "      <td>74</td>\n",
       "    </tr>\n",
       "    <tr>\n",
       "      <th>3</th>\n",
       "      <td>cat14</td>\n",
       "      <td>70</td>\n",
       "    </tr>\n",
       "    <tr>\n",
       "      <th>4</th>\n",
       "      <td>cat11</td>\n",
       "      <td>70</td>\n",
       "    </tr>\n",
       "  </tbody>\n",
       "</table>\n",
       "</div>"
      ],
      "text/plain": [
       "    cat3  81\n",
       "0   cat7  77\n",
       "1   cat8  76\n",
       "2   cat1  74\n",
       "3  cat14  70\n",
       "4  cat11  70"
      ]
     },
     "execution_count": 9,
     "metadata": {},
     "output_type": "execute_result"
    }
   ],
   "source": [
    "col_cat_filter = pd.read_csv('./output/raw_summary_cat_vs_gt60p.csv')\n",
    "col_cat_filter.head()"
   ]
  },
  {
   "cell_type": "code",
   "execution_count": 10,
   "metadata": {
    "collapsed": false
   },
   "outputs": [
    {
     "data": {
      "text/plain": [
       "array(['cat7', 'cat8', 'cat1', 'cat14', 'cat11'], dtype=object)"
      ]
     },
     "execution_count": 10,
     "metadata": {},
     "output_type": "execute_result"
    }
   ],
   "source": [
    "#x = col_cat_filter[col_cat_filter['81']>5]['cat3']\n",
    "x = col_cat_filter.iloc[:,0]\n",
    "x = np.array(x)\n",
    "x[:5]"
   ]
  },
  {
   "cell_type": "code",
   "execution_count": 11,
   "metadata": {
    "collapsed": false
   },
   "outputs": [
    {
     "data": {
      "text/plain": [
       "43"
      ]
     },
     "execution_count": 11,
     "metadata": {},
     "output_type": "execute_result"
    }
   ],
   "source": [
    "y = np.array(map(lambda i:i not in x, test_col_names))\n",
    "test_col_names_sub = np.array(test_col_names)\n",
    "test_col_names_sub = test_col_names_sub[y]\n",
    "test_cat_sub = raw_test[test_col_names_sub]\n",
    "len(test_col_names_sub)"
   ]
  },
  {
   "cell_type": "code",
   "execution_count": 12,
   "metadata": {
    "collapsed": false
   },
   "outputs": [
    {
     "data": {
      "text/html": [
       "<div>\n",
       "<table border=\"1\" class=\"dataframe\">\n",
       "  <thead>\n",
       "    <tr style=\"text-align: right;\">\n",
       "      <th></th>\n",
       "      <th>cont1</th>\n",
       "      <th>cont2</th>\n",
       "      <th>cont3</th>\n",
       "      <th>cont4</th>\n",
       "      <th>cont5</th>\n",
       "      <th>cont6</th>\n",
       "      <th>cont7</th>\n",
       "      <th>cont8</th>\n",
       "      <th>cont9</th>\n",
       "      <th>cont10</th>\n",
       "      <th>...</th>\n",
       "      <th>cat107</th>\n",
       "      <th>cat108</th>\n",
       "      <th>cat109</th>\n",
       "      <th>cat110</th>\n",
       "      <th>cat111</th>\n",
       "      <th>cat112</th>\n",
       "      <th>cat113</th>\n",
       "      <th>cat114</th>\n",
       "      <th>cat115</th>\n",
       "      <th>cat116</th>\n",
       "    </tr>\n",
       "  </thead>\n",
       "  <tbody>\n",
       "    <tr>\n",
       "      <th>0</th>\n",
       "      <td>-0.919627</td>\n",
       "      <td>-1.004841</td>\n",
       "      <td>-1.245845</td>\n",
       "      <td>-0.424126</td>\n",
       "      <td>-0.987465</td>\n",
       "      <td>-0.124516</td>\n",
       "      <td>-0.941866</td>\n",
       "      <td>0.625858</td>\n",
       "      <td>-0.781654</td>\n",
       "      <td>-0.638611</td>\n",
       "      <td>...</td>\n",
       "      <td>L</td>\n",
       "      <td>K</td>\n",
       "      <td>BI</td>\n",
       "      <td>BC</td>\n",
       "      <td>A</td>\n",
       "      <td>J</td>\n",
       "      <td>AX</td>\n",
       "      <td>A</td>\n",
       "      <td>Q</td>\n",
       "      <td>HG</td>\n",
       "    </tr>\n",
       "    <tr>\n",
       "      <th>1</th>\n",
       "      <td>0.746364</td>\n",
       "      <td>0.550513</td>\n",
       "      <td>0.773525</td>\n",
       "      <td>2.154891</td>\n",
       "      <td>1.667974</td>\n",
       "      <td>-0.047492</td>\n",
       "      <td>-0.236131</td>\n",
       "      <td>1.132050</td>\n",
       "      <td>0.180553</td>\n",
       "      <td>0.565214</td>\n",
       "      <td>...</td>\n",
       "      <td>F</td>\n",
       "      <td>B</td>\n",
       "      <td>BI</td>\n",
       "      <td>CO</td>\n",
       "      <td>E</td>\n",
       "      <td>G</td>\n",
       "      <td>X</td>\n",
       "      <td>A</td>\n",
       "      <td>L</td>\n",
       "      <td>HK</td>\n",
       "    </tr>\n",
       "    <tr>\n",
       "      <th>2</th>\n",
       "      <td>-1.083390</td>\n",
       "      <td>1.112616</td>\n",
       "      <td>1.055311</td>\n",
       "      <td>-0.377322</td>\n",
       "      <td>1.104120</td>\n",
       "      <td>-1.361463</td>\n",
       "      <td>-0.896536</td>\n",
       "      <td>-0.951251</td>\n",
       "      <td>-0.781654</td>\n",
       "      <td>-1.041248</td>\n",
       "      <td>...</td>\n",
       "      <td>G</td>\n",
       "      <td>A</td>\n",
       "      <td>BI</td>\n",
       "      <td>CS</td>\n",
       "      <td>C</td>\n",
       "      <td>U</td>\n",
       "      <td>AE</td>\n",
       "      <td>A</td>\n",
       "      <td>K</td>\n",
       "      <td>CK</td>\n",
       "    </tr>\n",
       "    <tr>\n",
       "      <th>3</th>\n",
       "      <td>-1.201452</td>\n",
       "      <td>0.845220</td>\n",
       "      <td>0.468046</td>\n",
       "      <td>-0.651952</td>\n",
       "      <td>-0.433108</td>\n",
       "      <td>-0.594719</td>\n",
       "      <td>-0.803751</td>\n",
       "      <td>-0.436589</td>\n",
       "      <td>-0.843587</td>\n",
       "      <td>-0.990105</td>\n",
       "      <td>...</td>\n",
       "      <td>K</td>\n",
       "      <td>K</td>\n",
       "      <td>BI</td>\n",
       "      <td>CR</td>\n",
       "      <td>A</td>\n",
       "      <td>AY</td>\n",
       "      <td>AJ</td>\n",
       "      <td>A</td>\n",
       "      <td>P</td>\n",
       "      <td>DJ</td>\n",
       "    </tr>\n",
       "    <tr>\n",
       "      <th>4</th>\n",
       "      <td>0.316018</td>\n",
       "      <td>-1.004841</td>\n",
       "      <td>-1.163270</td>\n",
       "      <td>0.970233</td>\n",
       "      <td>-0.884485</td>\n",
       "      <td>-0.453981</td>\n",
       "      <td>-0.526796</td>\n",
       "      <td>-1.255437</td>\n",
       "      <td>-0.267415</td>\n",
       "      <td>0.035767</td>\n",
       "      <td>...</td>\n",
       "      <td>E</td>\n",
       "      <td>B</td>\n",
       "      <td>AB</td>\n",
       "      <td>EG</td>\n",
       "      <td>A</td>\n",
       "      <td>E</td>\n",
       "      <td>I</td>\n",
       "      <td>C</td>\n",
       "      <td>J</td>\n",
       "      <td>HA</td>\n",
       "    </tr>\n",
       "  </tbody>\n",
       "</table>\n",
       "<p>5 rows × 43 columns</p>\n",
       "</div>"
      ],
      "text/plain": [
       "      cont1     cont2     cont3     cont4     cont5     cont6     cont7  \\\n",
       "0 -0.919627 -1.004841 -1.245845 -0.424126 -0.987465 -0.124516 -0.941866   \n",
       "1  0.746364  0.550513  0.773525  2.154891  1.667974 -0.047492 -0.236131   \n",
       "2 -1.083390  1.112616  1.055311 -0.377322  1.104120 -1.361463 -0.896536   \n",
       "3 -1.201452  0.845220  0.468046 -0.651952 -0.433108 -0.594719 -0.803751   \n",
       "4  0.316018 -1.004841 -1.163270  0.970233 -0.884485 -0.453981 -0.526796   \n",
       "\n",
       "      cont8     cont9    cont10  ...    cat107  cat108  cat109  cat110  \\\n",
       "0  0.625858 -0.781654 -0.638611  ...         L       K      BI      BC   \n",
       "1  1.132050  0.180553  0.565214  ...         F       B      BI      CO   \n",
       "2 -0.951251 -0.781654 -1.041248  ...         G       A      BI      CS   \n",
       "3 -0.436589 -0.843587 -0.990105  ...         K       K      BI      CR   \n",
       "4 -1.255437 -0.267415  0.035767  ...         E       B      AB      EG   \n",
       "\n",
       "   cat111 cat112 cat113 cat114 cat115 cat116  \n",
       "0       A      J     AX      A      Q     HG  \n",
       "1       E      G      X      A      L     HK  \n",
       "2       C      U     AE      A      K     CK  \n",
       "3       A     AY     AJ      A      P     DJ  \n",
       "4       A      E      I      C      J     HA  \n",
       "\n",
       "[5 rows x 43 columns]"
      ]
     },
     "execution_count": 12,
     "metadata": {},
     "output_type": "execute_result"
    }
   ],
   "source": [
    "test_cat_sub.to_csv('./output/test_cat_sub_gt60_scale.csv',encoding='utf-8')\n",
    "test_cat_sub.head()"
   ]
  },
  {
   "cell_type": "code",
   "execution_count": null,
   "metadata": {
    "collapsed": true
   },
   "outputs": [],
   "source": []
  }
 ],
 "metadata": {
  "kernelspec": {
   "display_name": "Python [default]",
   "language": "python",
   "name": "python2"
  },
  "language_info": {
   "codemirror_mode": {
    "name": "ipython",
    "version": 2
   },
   "file_extension": ".py",
   "mimetype": "text/x-python",
   "name": "python",
   "nbconvert_exporter": "python",
   "pygments_lexer": "ipython2",
   "version": "2.7.12"
  }
 },
 "nbformat": 4,
 "nbformat_minor": 1
}
